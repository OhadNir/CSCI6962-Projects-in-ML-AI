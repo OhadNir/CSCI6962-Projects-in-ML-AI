{
 "cells": [
  {
   "cell_type": "markdown",
   "id": "59585b9c-4a3e-4475-937d-96f5f42230ae",
   "metadata": {},
   "source": [
    "# CSCI 6920 - Homework 3"
   ]
  },
  {
   "cell_type": "markdown",
   "id": "9fb43e27-e972-436e-a701-14f0e13fc735",
   "metadata": {},
   "source": [
    "## Problem Statement \n",
    "When looking at the night sky, we call all the bright dots stars. However, this is not only completely correct. Many of the bright dots are also galaxies and quasars. These different celestial objects emit different photonic information, which we can capture using telescopes. However, differentiating between the objects is a non-trivial task. My goal in this homework is to use a dataset containing observation features and to classify an observation as a star, galaxy, or quasar.\n",
    "\n",
    "The dataset I used is the [Stellar Classification Dataset - SDSS17](https://www.kaggle.com/datasets/fedesoriano/stellar-classification-dataset-sdss17) from Kaggel"
   ]
  },
  {
   "cell_type": "markdown",
   "id": "418c3f10-6ac6-48e2-9a03-20d90d6da9a9",
   "metadata": {},
   "source": [
    "## Setup"
   ]
  },
  {
   "cell_type": "code",
   "execution_count": 637,
   "id": "f569be20-a266-49b0-a662-b8d161b6fb17",
   "metadata": {},
   "outputs": [],
   "source": [
    "import pandas as pd\n",
    "import numpy as np\n",
    "from tqdm.notebook import tqdm\n",
    "\n",
    "import torch\n",
    "from torch import nn\n",
    "from sklearn.linear_model import LogisticRegression\n",
    "\n",
    "import seaborn as sns\n",
    "import matplotlib.pyplot as plt\n",
    "\n",
    "from sklearn.model_selection import train_test_split\n",
    "from sklearn.preprocessing import LabelEncoder, StandardScaler\n",
    "\n",
    "from sklearn.metrics import confusion_matrix, roc_auc_score\n",
    "\n",
    "pd.options.display.max_columns = 100\n",
    "pd.options.display.max_rows = 100"
   ]
  },
  {
   "cell_type": "markdown",
   "id": "b2abf02e-3931-4af1-9df7-bd985e5b121f",
   "metadata": {},
   "source": [
    "## Task 1"
   ]
  },
  {
   "cell_type": "markdown",
   "id": "611de781-f540-41e8-94a8-3c3ddaf12edc",
   "metadata": {},
   "source": [
    "All of my references are from the pytorch documentation.\n",
    "* [torch.nn.sequential](https://pytorch.org/docs/stable/generated/torch.nn.Sequential.html) - I used this source to consturct a squencial model so I could define any depth neural network.\n",
    "* [torch.nn.CrossEntropyLoss](https://pytorch.org/docs/stable/generated/torch.nn.CrossEntropyLoss.html) - I used this source to find how the loss function will take output from the model.\n",
    "* [torch.optim.Adam](https://pytorch.org/docs/stable/generated/torch.optim.Adam.html#torch.optim.Adam) - I used this source to learn about the Adam optimizer hyperparameters and how to consruct the object.\n",
    "* [Datasets and Dataloaders](https://pytorch.org/docs/stable/data.html) - I used this source to learn how to create a dataset object from torch tensors and the parameters of the dataloader class."
   ]
  },
  {
   "cell_type": "markdown",
   "id": "e72889b0-683c-4328-a19a-d50376ba1381",
   "metadata": {},
   "source": [
    "## Task 2\n",
    "### Exploratory Data Analysis"
   ]
  },
  {
   "cell_type": "code",
   "execution_count": 638,
   "id": "3b38218d-95b0-4156-b028-c687655b6d76",
   "metadata": {},
   "outputs": [],
   "source": [
    "seed = 10\n",
    "data_path = \"..\\\\data\\\\star_classification.csv\"\n",
    "star_df = pd.read_csv(data_path) # load data."
   ]
  },
  {
   "cell_type": "markdown",
   "id": "fc43d172-af47-4b71-91b4-1baaf3af1b94",
   "metadata": {},
   "source": [
    "Review varaibles:"
   ]
  },
  {
   "cell_type": "code",
   "execution_count": 639,
   "id": "b1d1bb6d-b66e-46ee-baaf-e739242f17f6",
   "metadata": {},
   "outputs": [
    {
     "name": "stdout",
     "output_type": "stream",
     "text": [
      "<class 'pandas.core.frame.DataFrame'>\n",
      "RangeIndex: 100000 entries, 0 to 99999\n",
      "Data columns (total 18 columns):\n",
      " #   Column       Non-Null Count   Dtype  \n",
      "---  ------       --------------   -----  \n",
      " 0   obj_ID       100000 non-null  float64\n",
      " 1   alpha        100000 non-null  float64\n",
      " 2   delta        100000 non-null  float64\n",
      " 3   u            100000 non-null  float64\n",
      " 4   g            100000 non-null  float64\n",
      " 5   r            100000 non-null  float64\n",
      " 6   i            100000 non-null  float64\n",
      " 7   z            100000 non-null  float64\n",
      " 8   run_ID       100000 non-null  int64  \n",
      " 9   rerun_ID     100000 non-null  int64  \n",
      " 10  cam_col      100000 non-null  int64  \n",
      " 11  field_ID     100000 non-null  int64  \n",
      " 12  spec_obj_ID  100000 non-null  float64\n",
      " 13  class        100000 non-null  object \n",
      " 14  redshift     100000 non-null  float64\n",
      " 15  plate        100000 non-null  int64  \n",
      " 16  MJD          100000 non-null  int64  \n",
      " 17  fiber_ID     100000 non-null  int64  \n",
      "dtypes: float64(10), int64(7), object(1)\n",
      "memory usage: 13.7+ MB\n"
     ]
    }
   ],
   "source": [
    "# display all avaiable features.\n",
    "star_df.info()"
   ]
  },
  {
   "cell_type": "code",
   "execution_count": 640,
   "id": "72d178b7-f106-45e3-b387-bfe6e94a19b2",
   "metadata": {},
   "outputs": [
    {
     "data": {
      "text/html": [
       "<div>\n",
       "<style scoped>\n",
       "    .dataframe tbody tr th:only-of-type {\n",
       "        vertical-align: middle;\n",
       "    }\n",
       "\n",
       "    .dataframe tbody tr th {\n",
       "        vertical-align: top;\n",
       "    }\n",
       "\n",
       "    .dataframe thead th {\n",
       "        text-align: right;\n",
       "    }\n",
       "</style>\n",
       "<table border=\"1\" class=\"dataframe\">\n",
       "  <thead>\n",
       "    <tr style=\"text-align: right;\">\n",
       "      <th></th>\n",
       "      <th>obj_ID</th>\n",
       "      <th>alpha</th>\n",
       "      <th>delta</th>\n",
       "      <th>u</th>\n",
       "      <th>g</th>\n",
       "      <th>r</th>\n",
       "      <th>i</th>\n",
       "      <th>z</th>\n",
       "      <th>run_ID</th>\n",
       "      <th>rerun_ID</th>\n",
       "      <th>cam_col</th>\n",
       "      <th>field_ID</th>\n",
       "      <th>spec_obj_ID</th>\n",
       "      <th>class</th>\n",
       "      <th>redshift</th>\n",
       "      <th>plate</th>\n",
       "      <th>MJD</th>\n",
       "      <th>fiber_ID</th>\n",
       "    </tr>\n",
       "  </thead>\n",
       "  <tbody>\n",
       "    <tr>\n",
       "      <th>0</th>\n",
       "      <td>1.237661e+18</td>\n",
       "      <td>135.689107</td>\n",
       "      <td>32.494632</td>\n",
       "      <td>23.87882</td>\n",
       "      <td>22.27530</td>\n",
       "      <td>20.39501</td>\n",
       "      <td>19.16573</td>\n",
       "      <td>18.79371</td>\n",
       "      <td>3606</td>\n",
       "      <td>301</td>\n",
       "      <td>2</td>\n",
       "      <td>79</td>\n",
       "      <td>6.543777e+18</td>\n",
       "      <td>GALAXY</td>\n",
       "      <td>0.634794</td>\n",
       "      <td>5812</td>\n",
       "      <td>56354</td>\n",
       "      <td>171</td>\n",
       "    </tr>\n",
       "    <tr>\n",
       "      <th>1</th>\n",
       "      <td>1.237665e+18</td>\n",
       "      <td>144.826101</td>\n",
       "      <td>31.274185</td>\n",
       "      <td>24.77759</td>\n",
       "      <td>22.83188</td>\n",
       "      <td>22.58444</td>\n",
       "      <td>21.16812</td>\n",
       "      <td>21.61427</td>\n",
       "      <td>4518</td>\n",
       "      <td>301</td>\n",
       "      <td>5</td>\n",
       "      <td>119</td>\n",
       "      <td>1.176014e+19</td>\n",
       "      <td>GALAXY</td>\n",
       "      <td>0.779136</td>\n",
       "      <td>10445</td>\n",
       "      <td>58158</td>\n",
       "      <td>427</td>\n",
       "    </tr>\n",
       "    <tr>\n",
       "      <th>2</th>\n",
       "      <td>1.237661e+18</td>\n",
       "      <td>142.188790</td>\n",
       "      <td>35.582444</td>\n",
       "      <td>25.26307</td>\n",
       "      <td>22.66389</td>\n",
       "      <td>20.60976</td>\n",
       "      <td>19.34857</td>\n",
       "      <td>18.94827</td>\n",
       "      <td>3606</td>\n",
       "      <td>301</td>\n",
       "      <td>2</td>\n",
       "      <td>120</td>\n",
       "      <td>5.152200e+18</td>\n",
       "      <td>GALAXY</td>\n",
       "      <td>0.644195</td>\n",
       "      <td>4576</td>\n",
       "      <td>55592</td>\n",
       "      <td>299</td>\n",
       "    </tr>\n",
       "    <tr>\n",
       "      <th>3</th>\n",
       "      <td>1.237663e+18</td>\n",
       "      <td>338.741038</td>\n",
       "      <td>-0.402828</td>\n",
       "      <td>22.13682</td>\n",
       "      <td>23.77656</td>\n",
       "      <td>21.61162</td>\n",
       "      <td>20.50454</td>\n",
       "      <td>19.25010</td>\n",
       "      <td>4192</td>\n",
       "      <td>301</td>\n",
       "      <td>3</td>\n",
       "      <td>214</td>\n",
       "      <td>1.030107e+19</td>\n",
       "      <td>GALAXY</td>\n",
       "      <td>0.932346</td>\n",
       "      <td>9149</td>\n",
       "      <td>58039</td>\n",
       "      <td>775</td>\n",
       "    </tr>\n",
       "    <tr>\n",
       "      <th>4</th>\n",
       "      <td>1.237680e+18</td>\n",
       "      <td>345.282593</td>\n",
       "      <td>21.183866</td>\n",
       "      <td>19.43718</td>\n",
       "      <td>17.58028</td>\n",
       "      <td>16.49747</td>\n",
       "      <td>15.97711</td>\n",
       "      <td>15.54461</td>\n",
       "      <td>8102</td>\n",
       "      <td>301</td>\n",
       "      <td>3</td>\n",
       "      <td>137</td>\n",
       "      <td>6.891865e+18</td>\n",
       "      <td>GALAXY</td>\n",
       "      <td>0.116123</td>\n",
       "      <td>6121</td>\n",
       "      <td>56187</td>\n",
       "      <td>842</td>\n",
       "    </tr>\n",
       "    <tr>\n",
       "      <th>5</th>\n",
       "      <td>1.237680e+18</td>\n",
       "      <td>340.995121</td>\n",
       "      <td>20.589476</td>\n",
       "      <td>23.48827</td>\n",
       "      <td>23.33776</td>\n",
       "      <td>21.32195</td>\n",
       "      <td>20.25615</td>\n",
       "      <td>19.54544</td>\n",
       "      <td>8102</td>\n",
       "      <td>301</td>\n",
       "      <td>3</td>\n",
       "      <td>110</td>\n",
       "      <td>5.658977e+18</td>\n",
       "      <td>QSO</td>\n",
       "      <td>1.424659</td>\n",
       "      <td>5026</td>\n",
       "      <td>55855</td>\n",
       "      <td>741</td>\n",
       "    </tr>\n",
       "    <tr>\n",
       "      <th>6</th>\n",
       "      <td>1.237679e+18</td>\n",
       "      <td>23.234926</td>\n",
       "      <td>11.418188</td>\n",
       "      <td>21.46973</td>\n",
       "      <td>21.17624</td>\n",
       "      <td>20.92829</td>\n",
       "      <td>20.60826</td>\n",
       "      <td>20.42573</td>\n",
       "      <td>7773</td>\n",
       "      <td>301</td>\n",
       "      <td>2</td>\n",
       "      <td>462</td>\n",
       "      <td>1.246262e+19</td>\n",
       "      <td>QSO</td>\n",
       "      <td>0.586455</td>\n",
       "      <td>11069</td>\n",
       "      <td>58456</td>\n",
       "      <td>113</td>\n",
       "    </tr>\n",
       "    <tr>\n",
       "      <th>7</th>\n",
       "      <td>1.237679e+18</td>\n",
       "      <td>5.433176</td>\n",
       "      <td>12.065186</td>\n",
       "      <td>22.24979</td>\n",
       "      <td>22.02172</td>\n",
       "      <td>20.34126</td>\n",
       "      <td>19.48794</td>\n",
       "      <td>18.84999</td>\n",
       "      <td>7773</td>\n",
       "      <td>301</td>\n",
       "      <td>2</td>\n",
       "      <td>346</td>\n",
       "      <td>6.961443e+18</td>\n",
       "      <td>GALAXY</td>\n",
       "      <td>0.477009</td>\n",
       "      <td>6183</td>\n",
       "      <td>56210</td>\n",
       "      <td>15</td>\n",
       "    </tr>\n",
       "    <tr>\n",
       "      <th>8</th>\n",
       "      <td>1.237661e+18</td>\n",
       "      <td>200.290475</td>\n",
       "      <td>47.199402</td>\n",
       "      <td>24.40286</td>\n",
       "      <td>22.35669</td>\n",
       "      <td>20.61032</td>\n",
       "      <td>19.46490</td>\n",
       "      <td>18.95852</td>\n",
       "      <td>3716</td>\n",
       "      <td>301</td>\n",
       "      <td>5</td>\n",
       "      <td>108</td>\n",
       "      <td>7.459285e+18</td>\n",
       "      <td>GALAXY</td>\n",
       "      <td>0.660012</td>\n",
       "      <td>6625</td>\n",
       "      <td>56386</td>\n",
       "      <td>719</td>\n",
       "    </tr>\n",
       "    <tr>\n",
       "      <th>9</th>\n",
       "      <td>1.237671e+18</td>\n",
       "      <td>39.149691</td>\n",
       "      <td>28.102842</td>\n",
       "      <td>21.74669</td>\n",
       "      <td>20.03493</td>\n",
       "      <td>19.17553</td>\n",
       "      <td>18.81823</td>\n",
       "      <td>18.65422</td>\n",
       "      <td>5934</td>\n",
       "      <td>301</td>\n",
       "      <td>4</td>\n",
       "      <td>122</td>\n",
       "      <td>2.751763e+18</td>\n",
       "      <td>STAR</td>\n",
       "      <td>-0.000008</td>\n",
       "      <td>2444</td>\n",
       "      <td>54082</td>\n",
       "      <td>232</td>\n",
       "    </tr>\n",
       "  </tbody>\n",
       "</table>\n",
       "</div>"
      ],
      "text/plain": [
       "         obj_ID       alpha      delta         u         g         r  \\\n",
       "0  1.237661e+18  135.689107  32.494632  23.87882  22.27530  20.39501   \n",
       "1  1.237665e+18  144.826101  31.274185  24.77759  22.83188  22.58444   \n",
       "2  1.237661e+18  142.188790  35.582444  25.26307  22.66389  20.60976   \n",
       "3  1.237663e+18  338.741038  -0.402828  22.13682  23.77656  21.61162   \n",
       "4  1.237680e+18  345.282593  21.183866  19.43718  17.58028  16.49747   \n",
       "5  1.237680e+18  340.995121  20.589476  23.48827  23.33776  21.32195   \n",
       "6  1.237679e+18   23.234926  11.418188  21.46973  21.17624  20.92829   \n",
       "7  1.237679e+18    5.433176  12.065186  22.24979  22.02172  20.34126   \n",
       "8  1.237661e+18  200.290475  47.199402  24.40286  22.35669  20.61032   \n",
       "9  1.237671e+18   39.149691  28.102842  21.74669  20.03493  19.17553   \n",
       "\n",
       "          i         z  run_ID  rerun_ID  cam_col  field_ID   spec_obj_ID  \\\n",
       "0  19.16573  18.79371    3606       301        2        79  6.543777e+18   \n",
       "1  21.16812  21.61427    4518       301        5       119  1.176014e+19   \n",
       "2  19.34857  18.94827    3606       301        2       120  5.152200e+18   \n",
       "3  20.50454  19.25010    4192       301        3       214  1.030107e+19   \n",
       "4  15.97711  15.54461    8102       301        3       137  6.891865e+18   \n",
       "5  20.25615  19.54544    8102       301        3       110  5.658977e+18   \n",
       "6  20.60826  20.42573    7773       301        2       462  1.246262e+19   \n",
       "7  19.48794  18.84999    7773       301        2       346  6.961443e+18   \n",
       "8  19.46490  18.95852    3716       301        5       108  7.459285e+18   \n",
       "9  18.81823  18.65422    5934       301        4       122  2.751763e+18   \n",
       "\n",
       "    class  redshift  plate    MJD  fiber_ID  \n",
       "0  GALAXY  0.634794   5812  56354       171  \n",
       "1  GALAXY  0.779136  10445  58158       427  \n",
       "2  GALAXY  0.644195   4576  55592       299  \n",
       "3  GALAXY  0.932346   9149  58039       775  \n",
       "4  GALAXY  0.116123   6121  56187       842  \n",
       "5     QSO  1.424659   5026  55855       741  \n",
       "6     QSO  0.586455  11069  58456       113  \n",
       "7  GALAXY  0.477009   6183  56210        15  \n",
       "8  GALAXY  0.660012   6625  56386       719  \n",
       "9    STAR -0.000008   2444  54082       232  "
      ]
     },
     "execution_count": 640,
     "metadata": {},
     "output_type": "execute_result"
    }
   ],
   "source": [
    "# sample of datapoints.\n",
    "star_df.head(10)"
   ]
  },
  {
   "cell_type": "code",
   "execution_count": 641,
   "id": "31cdbf27-873f-483c-834c-f6d2f3394c2c",
   "metadata": {},
   "outputs": [
    {
     "data": {
      "text/html": [
       "<div>\n",
       "<style scoped>\n",
       "    .dataframe tbody tr th:only-of-type {\n",
       "        vertical-align: middle;\n",
       "    }\n",
       "\n",
       "    .dataframe tbody tr th {\n",
       "        vertical-align: top;\n",
       "    }\n",
       "\n",
       "    .dataframe thead th {\n",
       "        text-align: right;\n",
       "    }\n",
       "</style>\n",
       "<table border=\"1\" class=\"dataframe\">\n",
       "  <thead>\n",
       "    <tr style=\"text-align: right;\">\n",
       "      <th></th>\n",
       "      <th>obj_ID</th>\n",
       "      <th>alpha</th>\n",
       "      <th>delta</th>\n",
       "      <th>u</th>\n",
       "      <th>g</th>\n",
       "      <th>r</th>\n",
       "      <th>i</th>\n",
       "      <th>z</th>\n",
       "      <th>run_ID</th>\n",
       "      <th>rerun_ID</th>\n",
       "      <th>cam_col</th>\n",
       "      <th>field_ID</th>\n",
       "      <th>spec_obj_ID</th>\n",
       "      <th>redshift</th>\n",
       "      <th>plate</th>\n",
       "      <th>MJD</th>\n",
       "      <th>fiber_ID</th>\n",
       "    </tr>\n",
       "  </thead>\n",
       "  <tbody>\n",
       "    <tr>\n",
       "      <th>count</th>\n",
       "      <td>1.000000e+05</td>\n",
       "      <td>100000.000000</td>\n",
       "      <td>100000.000000</td>\n",
       "      <td>100000.000000</td>\n",
       "      <td>100000.000000</td>\n",
       "      <td>100000.000000</td>\n",
       "      <td>100000.000000</td>\n",
       "      <td>100000.000000</td>\n",
       "      <td>100000.000000</td>\n",
       "      <td>100000.0</td>\n",
       "      <td>100000.000000</td>\n",
       "      <td>100000.000000</td>\n",
       "      <td>1.000000e+05</td>\n",
       "      <td>100000.000000</td>\n",
       "      <td>100000.000000</td>\n",
       "      <td>100000.000000</td>\n",
       "      <td>100000.000000</td>\n",
       "    </tr>\n",
       "    <tr>\n",
       "      <th>mean</th>\n",
       "      <td>1.237665e+18</td>\n",
       "      <td>177.629117</td>\n",
       "      <td>24.135305</td>\n",
       "      <td>21.980468</td>\n",
       "      <td>20.531387</td>\n",
       "      <td>19.645762</td>\n",
       "      <td>19.084854</td>\n",
       "      <td>18.668810</td>\n",
       "      <td>4481.366060</td>\n",
       "      <td>301.0</td>\n",
       "      <td>3.511610</td>\n",
       "      <td>186.130520</td>\n",
       "      <td>5.783882e+18</td>\n",
       "      <td>0.576661</td>\n",
       "      <td>5137.009660</td>\n",
       "      <td>55588.647500</td>\n",
       "      <td>449.312740</td>\n",
       "    </tr>\n",
       "    <tr>\n",
       "      <th>std</th>\n",
       "      <td>8.438560e+12</td>\n",
       "      <td>96.502241</td>\n",
       "      <td>19.644665</td>\n",
       "      <td>31.769291</td>\n",
       "      <td>31.750292</td>\n",
       "      <td>1.854760</td>\n",
       "      <td>1.757895</td>\n",
       "      <td>31.728152</td>\n",
       "      <td>1964.764593</td>\n",
       "      <td>0.0</td>\n",
       "      <td>1.586912</td>\n",
       "      <td>149.011073</td>\n",
       "      <td>3.324016e+18</td>\n",
       "      <td>0.730707</td>\n",
       "      <td>2952.303351</td>\n",
       "      <td>1808.484233</td>\n",
       "      <td>272.498404</td>\n",
       "    </tr>\n",
       "    <tr>\n",
       "      <th>min</th>\n",
       "      <td>1.237646e+18</td>\n",
       "      <td>0.005528</td>\n",
       "      <td>-18.785328</td>\n",
       "      <td>-9999.000000</td>\n",
       "      <td>-9999.000000</td>\n",
       "      <td>9.822070</td>\n",
       "      <td>9.469903</td>\n",
       "      <td>-9999.000000</td>\n",
       "      <td>109.000000</td>\n",
       "      <td>301.0</td>\n",
       "      <td>1.000000</td>\n",
       "      <td>11.000000</td>\n",
       "      <td>2.995191e+17</td>\n",
       "      <td>-0.009971</td>\n",
       "      <td>266.000000</td>\n",
       "      <td>51608.000000</td>\n",
       "      <td>1.000000</td>\n",
       "    </tr>\n",
       "    <tr>\n",
       "      <th>25%</th>\n",
       "      <td>1.237659e+18</td>\n",
       "      <td>127.518222</td>\n",
       "      <td>5.146771</td>\n",
       "      <td>20.352353</td>\n",
       "      <td>18.965230</td>\n",
       "      <td>18.135828</td>\n",
       "      <td>17.732285</td>\n",
       "      <td>17.460677</td>\n",
       "      <td>3187.000000</td>\n",
       "      <td>301.0</td>\n",
       "      <td>2.000000</td>\n",
       "      <td>82.000000</td>\n",
       "      <td>2.844138e+18</td>\n",
       "      <td>0.054517</td>\n",
       "      <td>2526.000000</td>\n",
       "      <td>54234.000000</td>\n",
       "      <td>221.000000</td>\n",
       "    </tr>\n",
       "    <tr>\n",
       "      <th>50%</th>\n",
       "      <td>1.237663e+18</td>\n",
       "      <td>180.900700</td>\n",
       "      <td>23.645922</td>\n",
       "      <td>22.179135</td>\n",
       "      <td>21.099835</td>\n",
       "      <td>20.125290</td>\n",
       "      <td>19.405145</td>\n",
       "      <td>19.004595</td>\n",
       "      <td>4188.000000</td>\n",
       "      <td>301.0</td>\n",
       "      <td>4.000000</td>\n",
       "      <td>146.000000</td>\n",
       "      <td>5.614883e+18</td>\n",
       "      <td>0.424173</td>\n",
       "      <td>4987.000000</td>\n",
       "      <td>55868.500000</td>\n",
       "      <td>433.000000</td>\n",
       "    </tr>\n",
       "    <tr>\n",
       "      <th>75%</th>\n",
       "      <td>1.237668e+18</td>\n",
       "      <td>233.895005</td>\n",
       "      <td>39.901550</td>\n",
       "      <td>23.687440</td>\n",
       "      <td>22.123767</td>\n",
       "      <td>21.044785</td>\n",
       "      <td>20.396495</td>\n",
       "      <td>19.921120</td>\n",
       "      <td>5326.000000</td>\n",
       "      <td>301.0</td>\n",
       "      <td>5.000000</td>\n",
       "      <td>241.000000</td>\n",
       "      <td>8.332144e+18</td>\n",
       "      <td>0.704154</td>\n",
       "      <td>7400.250000</td>\n",
       "      <td>56777.000000</td>\n",
       "      <td>645.000000</td>\n",
       "    </tr>\n",
       "    <tr>\n",
       "      <th>max</th>\n",
       "      <td>1.237681e+18</td>\n",
       "      <td>359.999810</td>\n",
       "      <td>83.000519</td>\n",
       "      <td>32.781390</td>\n",
       "      <td>31.602240</td>\n",
       "      <td>29.571860</td>\n",
       "      <td>32.141470</td>\n",
       "      <td>29.383740</td>\n",
       "      <td>8162.000000</td>\n",
       "      <td>301.0</td>\n",
       "      <td>6.000000</td>\n",
       "      <td>989.000000</td>\n",
       "      <td>1.412694e+19</td>\n",
       "      <td>7.011245</td>\n",
       "      <td>12547.000000</td>\n",
       "      <td>58932.000000</td>\n",
       "      <td>1000.000000</td>\n",
       "    </tr>\n",
       "  </tbody>\n",
       "</table>\n",
       "</div>"
      ],
      "text/plain": [
       "             obj_ID          alpha          delta              u  \\\n",
       "count  1.000000e+05  100000.000000  100000.000000  100000.000000   \n",
       "mean   1.237665e+18     177.629117      24.135305      21.980468   \n",
       "std    8.438560e+12      96.502241      19.644665      31.769291   \n",
       "min    1.237646e+18       0.005528     -18.785328   -9999.000000   \n",
       "25%    1.237659e+18     127.518222       5.146771      20.352353   \n",
       "50%    1.237663e+18     180.900700      23.645922      22.179135   \n",
       "75%    1.237668e+18     233.895005      39.901550      23.687440   \n",
       "max    1.237681e+18     359.999810      83.000519      32.781390   \n",
       "\n",
       "                   g              r              i              z  \\\n",
       "count  100000.000000  100000.000000  100000.000000  100000.000000   \n",
       "mean       20.531387      19.645762      19.084854      18.668810   \n",
       "std        31.750292       1.854760       1.757895      31.728152   \n",
       "min     -9999.000000       9.822070       9.469903   -9999.000000   \n",
       "25%        18.965230      18.135828      17.732285      17.460677   \n",
       "50%        21.099835      20.125290      19.405145      19.004595   \n",
       "75%        22.123767      21.044785      20.396495      19.921120   \n",
       "max        31.602240      29.571860      32.141470      29.383740   \n",
       "\n",
       "              run_ID  rerun_ID        cam_col       field_ID   spec_obj_ID  \\\n",
       "count  100000.000000  100000.0  100000.000000  100000.000000  1.000000e+05   \n",
       "mean     4481.366060     301.0       3.511610     186.130520  5.783882e+18   \n",
       "std      1964.764593       0.0       1.586912     149.011073  3.324016e+18   \n",
       "min       109.000000     301.0       1.000000      11.000000  2.995191e+17   \n",
       "25%      3187.000000     301.0       2.000000      82.000000  2.844138e+18   \n",
       "50%      4188.000000     301.0       4.000000     146.000000  5.614883e+18   \n",
       "75%      5326.000000     301.0       5.000000     241.000000  8.332144e+18   \n",
       "max      8162.000000     301.0       6.000000     989.000000  1.412694e+19   \n",
       "\n",
       "            redshift          plate            MJD       fiber_ID  \n",
       "count  100000.000000  100000.000000  100000.000000  100000.000000  \n",
       "mean        0.576661    5137.009660   55588.647500     449.312740  \n",
       "std         0.730707    2952.303351    1808.484233     272.498404  \n",
       "min        -0.009971     266.000000   51608.000000       1.000000  \n",
       "25%         0.054517    2526.000000   54234.000000     221.000000  \n",
       "50%         0.424173    4987.000000   55868.500000     433.000000  \n",
       "75%         0.704154    7400.250000   56777.000000     645.000000  \n",
       "max         7.011245   12547.000000   58932.000000    1000.000000  "
      ]
     },
     "execution_count": 641,
     "metadata": {},
     "output_type": "execute_result"
    }
   ],
   "source": [
    "# Statistical information regarding each feature.\n",
    "star_df.describe()"
   ]
  },
  {
   "cell_type": "markdown",
   "id": "3b853e8d-2b06-442b-a54e-f551ed59488f",
   "metadata": {},
   "source": [
    "1. We note that the varable class is of type string which means we need to encode the labels.\n",
    "2. Reviewing the describtion tablet it seems that rerun_ID gives no new information as its means standard devision is 0 so we drop this feature. \n",
    "3. Also -9999 appears several times in the minumum which seems like a supplement for NaN as its very far from the mean. We drop rows that contain this value."
   ]
  },
  {
   "cell_type": "code",
   "execution_count": 642,
   "id": "c8b404f6-4a2b-417e-9765-fee7a6296aa3",
   "metadata": {},
   "outputs": [],
   "source": [
    "# 1. encode labels\n",
    "le = LabelEncoder()\n",
    "le.fit(star_df[\"class\"].unique())\n",
    "star_df[\"class\"] = le.transform(star_df[\"class\"])"
   ]
  },
  {
   "cell_type": "code",
   "execution_count": 643,
   "id": "781150cd-30b0-4ea9-9657-c810bfebfedf",
   "metadata": {},
   "outputs": [],
   "source": [
    "# 2. drop rerun_ID\n",
    "star_df = star_df.drop([\"rerun_ID\"], axis = 1)"
   ]
  },
  {
   "cell_type": "code",
   "execution_count": 644,
   "id": "721860a9-794b-4f34-9732-49d7690d1790",
   "metadata": {},
   "outputs": [],
   "source": [
    "# 3. remove rows that contain -9999 as an element.\n",
    "for c in star_df.columns:\n",
    "    star_df = star_df[star_df[c] != -9999]"
   ]
  },
  {
   "cell_type": "code",
   "execution_count": 645,
   "id": "68f567ac-3985-44ca-84dd-65e1c9bee396",
   "metadata": {},
   "outputs": [
    {
     "data": {
      "text/html": [
       "<div>\n",
       "<style scoped>\n",
       "    .dataframe tbody tr th:only-of-type {\n",
       "        vertical-align: middle;\n",
       "    }\n",
       "\n",
       "    .dataframe tbody tr th {\n",
       "        vertical-align: top;\n",
       "    }\n",
       "\n",
       "    .dataframe thead th {\n",
       "        text-align: right;\n",
       "    }\n",
       "</style>\n",
       "<table border=\"1\" class=\"dataframe\">\n",
       "  <thead>\n",
       "    <tr style=\"text-align: right;\">\n",
       "      <th></th>\n",
       "      <th>obj_ID</th>\n",
       "      <th>alpha</th>\n",
       "      <th>delta</th>\n",
       "      <th>u</th>\n",
       "      <th>g</th>\n",
       "      <th>r</th>\n",
       "      <th>i</th>\n",
       "      <th>z</th>\n",
       "      <th>run_ID</th>\n",
       "      <th>cam_col</th>\n",
       "      <th>field_ID</th>\n",
       "      <th>spec_obj_ID</th>\n",
       "      <th>class</th>\n",
       "      <th>redshift</th>\n",
       "      <th>plate</th>\n",
       "      <th>MJD</th>\n",
       "      <th>fiber_ID</th>\n",
       "    </tr>\n",
       "  </thead>\n",
       "  <tbody>\n",
       "    <tr>\n",
       "      <th>count</th>\n",
       "      <td>9.999900e+04</td>\n",
       "      <td>99999.000000</td>\n",
       "      <td>99999.000000</td>\n",
       "      <td>99999.000000</td>\n",
       "      <td>99999.000000</td>\n",
       "      <td>99999.000000</td>\n",
       "      <td>99999.000000</td>\n",
       "      <td>99999.000000</td>\n",
       "      <td>99999.000000</td>\n",
       "      <td>99999.000000</td>\n",
       "      <td>99999.000000</td>\n",
       "      <td>9.999900e+04</td>\n",
       "      <td>99999.000000</td>\n",
       "      <td>99999.000000</td>\n",
       "      <td>99999.000000</td>\n",
       "      <td>99999.000000</td>\n",
       "      <td>99999.000000</td>\n",
       "    </tr>\n",
       "    <tr>\n",
       "      <th>mean</th>\n",
       "      <td>1.237665e+18</td>\n",
       "      <td>177.628653</td>\n",
       "      <td>24.135552</td>\n",
       "      <td>22.080679</td>\n",
       "      <td>20.631583</td>\n",
       "      <td>19.645777</td>\n",
       "      <td>19.084865</td>\n",
       "      <td>18.768988</td>\n",
       "      <td>4481.403354</td>\n",
       "      <td>3.511625</td>\n",
       "      <td>186.127011</td>\n",
       "      <td>5.783903e+18</td>\n",
       "      <td>0.621476</td>\n",
       "      <td>0.576667</td>\n",
       "      <td>5137.027890</td>\n",
       "      <td>55588.653687</td>\n",
       "      <td>449.315613</td>\n",
       "    </tr>\n",
       "    <tr>\n",
       "      <th>std</th>\n",
       "      <td>8.438450e+12</td>\n",
       "      <td>96.502612</td>\n",
       "      <td>19.644608</td>\n",
       "      <td>2.251068</td>\n",
       "      <td>2.037384</td>\n",
       "      <td>1.854763</td>\n",
       "      <td>1.757900</td>\n",
       "      <td>1.765982</td>\n",
       "      <td>1964.739021</td>\n",
       "      <td>1.586913</td>\n",
       "      <td>149.007687</td>\n",
       "      <td>3.324026e+18</td>\n",
       "      <td>0.816771</td>\n",
       "      <td>0.730709</td>\n",
       "      <td>2952.312485</td>\n",
       "      <td>1808.492217</td>\n",
       "      <td>272.498252</td>\n",
       "    </tr>\n",
       "    <tr>\n",
       "      <th>min</th>\n",
       "      <td>1.237646e+18</td>\n",
       "      <td>0.005528</td>\n",
       "      <td>-18.785328</td>\n",
       "      <td>10.996230</td>\n",
       "      <td>10.498200</td>\n",
       "      <td>9.822070</td>\n",
       "      <td>9.469903</td>\n",
       "      <td>9.612333</td>\n",
       "      <td>109.000000</td>\n",
       "      <td>1.000000</td>\n",
       "      <td>11.000000</td>\n",
       "      <td>2.995191e+17</td>\n",
       "      <td>0.000000</td>\n",
       "      <td>-0.009971</td>\n",
       "      <td>266.000000</td>\n",
       "      <td>51608.000000</td>\n",
       "      <td>1.000000</td>\n",
       "    </tr>\n",
       "    <tr>\n",
       "      <th>25%</th>\n",
       "      <td>1.237659e+18</td>\n",
       "      <td>127.517698</td>\n",
       "      <td>5.147477</td>\n",
       "      <td>20.352410</td>\n",
       "      <td>18.965240</td>\n",
       "      <td>18.135795</td>\n",
       "      <td>17.732280</td>\n",
       "      <td>17.460830</td>\n",
       "      <td>3187.000000</td>\n",
       "      <td>2.000000</td>\n",
       "      <td>82.000000</td>\n",
       "      <td>2.844137e+18</td>\n",
       "      <td>0.000000</td>\n",
       "      <td>0.054522</td>\n",
       "      <td>2526.000000</td>\n",
       "      <td>54234.000000</td>\n",
       "      <td>221.000000</td>\n",
       "    </tr>\n",
       "    <tr>\n",
       "      <th>50%</th>\n",
       "      <td>1.237663e+18</td>\n",
       "      <td>180.900527</td>\n",
       "      <td>23.646462</td>\n",
       "      <td>22.179140</td>\n",
       "      <td>21.099930</td>\n",
       "      <td>20.125310</td>\n",
       "      <td>19.405150</td>\n",
       "      <td>19.004600</td>\n",
       "      <td>4188.000000</td>\n",
       "      <td>4.000000</td>\n",
       "      <td>146.000000</td>\n",
       "      <td>5.614896e+18</td>\n",
       "      <td>0.000000</td>\n",
       "      <td>0.424176</td>\n",
       "      <td>4987.000000</td>\n",
       "      <td>55869.000000</td>\n",
       "      <td>433.000000</td>\n",
       "    </tr>\n",
       "    <tr>\n",
       "      <th>75%</th>\n",
       "      <td>1.237668e+18</td>\n",
       "      <td>233.895005</td>\n",
       "      <td>39.901582</td>\n",
       "      <td>23.687480</td>\n",
       "      <td>22.123775</td>\n",
       "      <td>21.044790</td>\n",
       "      <td>20.396510</td>\n",
       "      <td>19.921120</td>\n",
       "      <td>5326.000000</td>\n",
       "      <td>5.000000</td>\n",
       "      <td>241.000000</td>\n",
       "      <td>8.332365e+18</td>\n",
       "      <td>1.000000</td>\n",
       "      <td>0.704172</td>\n",
       "      <td>7400.500000</td>\n",
       "      <td>56777.000000</td>\n",
       "      <td>645.000000</td>\n",
       "    </tr>\n",
       "    <tr>\n",
       "      <th>max</th>\n",
       "      <td>1.237681e+18</td>\n",
       "      <td>359.999810</td>\n",
       "      <td>83.000519</td>\n",
       "      <td>32.781390</td>\n",
       "      <td>31.602240</td>\n",
       "      <td>29.571860</td>\n",
       "      <td>32.141470</td>\n",
       "      <td>29.383740</td>\n",
       "      <td>8162.000000</td>\n",
       "      <td>6.000000</td>\n",
       "      <td>989.000000</td>\n",
       "      <td>1.412694e+19</td>\n",
       "      <td>2.000000</td>\n",
       "      <td>7.011245</td>\n",
       "      <td>12547.000000</td>\n",
       "      <td>58932.000000</td>\n",
       "      <td>1000.000000</td>\n",
       "    </tr>\n",
       "  </tbody>\n",
       "</table>\n",
       "</div>"
      ],
      "text/plain": [
       "             obj_ID         alpha         delta             u             g  \\\n",
       "count  9.999900e+04  99999.000000  99999.000000  99999.000000  99999.000000   \n",
       "mean   1.237665e+18    177.628653     24.135552     22.080679     20.631583   \n",
       "std    8.438450e+12     96.502612     19.644608      2.251068      2.037384   \n",
       "min    1.237646e+18      0.005528    -18.785328     10.996230     10.498200   \n",
       "25%    1.237659e+18    127.517698      5.147477     20.352410     18.965240   \n",
       "50%    1.237663e+18    180.900527     23.646462     22.179140     21.099930   \n",
       "75%    1.237668e+18    233.895005     39.901582     23.687480     22.123775   \n",
       "max    1.237681e+18    359.999810     83.000519     32.781390     31.602240   \n",
       "\n",
       "                  r             i             z        run_ID       cam_col  \\\n",
       "count  99999.000000  99999.000000  99999.000000  99999.000000  99999.000000   \n",
       "mean      19.645777     19.084865     18.768988   4481.403354      3.511625   \n",
       "std        1.854763      1.757900      1.765982   1964.739021      1.586913   \n",
       "min        9.822070      9.469903      9.612333    109.000000      1.000000   \n",
       "25%       18.135795     17.732280     17.460830   3187.000000      2.000000   \n",
       "50%       20.125310     19.405150     19.004600   4188.000000      4.000000   \n",
       "75%       21.044790     20.396510     19.921120   5326.000000      5.000000   \n",
       "max       29.571860     32.141470     29.383740   8162.000000      6.000000   \n",
       "\n",
       "           field_ID   spec_obj_ID         class      redshift         plate  \\\n",
       "count  99999.000000  9.999900e+04  99999.000000  99999.000000  99999.000000   \n",
       "mean     186.127011  5.783903e+18      0.621476      0.576667   5137.027890   \n",
       "std      149.007687  3.324026e+18      0.816771      0.730709   2952.312485   \n",
       "min       11.000000  2.995191e+17      0.000000     -0.009971    266.000000   \n",
       "25%       82.000000  2.844137e+18      0.000000      0.054522   2526.000000   \n",
       "50%      146.000000  5.614896e+18      0.000000      0.424176   4987.000000   \n",
       "75%      241.000000  8.332365e+18      1.000000      0.704172   7400.500000   \n",
       "max      989.000000  1.412694e+19      2.000000      7.011245  12547.000000   \n",
       "\n",
       "                MJD      fiber_ID  \n",
       "count  99999.000000  99999.000000  \n",
       "mean   55588.653687    449.315613  \n",
       "std     1808.492217    272.498252  \n",
       "min    51608.000000      1.000000  \n",
       "25%    54234.000000    221.000000  \n",
       "50%    55869.000000    433.000000  \n",
       "75%    56777.000000    645.000000  \n",
       "max    58932.000000   1000.000000  "
      ]
     },
     "execution_count": 645,
     "metadata": {},
     "output_type": "execute_result"
    }
   ],
   "source": [
    "star_df.describe()"
   ]
  },
  {
   "cell_type": "markdown",
   "id": "c5feb49f-b87e-49f7-a98c-4319df0dae94",
   "metadata": {},
   "source": [
    "Check for missing values:"
   ]
  },
  {
   "cell_type": "code",
   "execution_count": 646,
   "id": "cb597e2f-b436-4350-9013-c8a9b7f21586",
   "metadata": {},
   "outputs": [
    {
     "data": {
      "text/plain": [
       "obj_ID         0\n",
       "alpha          0\n",
       "delta          0\n",
       "u              0\n",
       "g              0\n",
       "r              0\n",
       "i              0\n",
       "z              0\n",
       "run_ID         0\n",
       "cam_col        0\n",
       "field_ID       0\n",
       "spec_obj_ID    0\n",
       "class          0\n",
       "redshift       0\n",
       "plate          0\n",
       "MJD            0\n",
       "fiber_ID       0\n",
       "dtype: int64"
      ]
     },
     "execution_count": 646,
     "metadata": {},
     "output_type": "execute_result"
    }
   ],
   "source": [
    "star_df.isna().sum()"
   ]
  },
  {
   "cell_type": "markdown",
   "id": "2d6d0274-91d1-4c69-bce8-ba4d2b7f834f",
   "metadata": {},
   "source": [
    "No missing values in this dataset"
   ]
  },
  {
   "cell_type": "markdown",
   "id": "0c236057-f024-4c75-9bbe-192f5a004bdd",
   "metadata": {},
   "source": [
    "Remove insignificant features to the target class:"
   ]
  },
  {
   "cell_type": "code",
   "execution_count": 647,
   "id": "a920ad6d-f3cc-4754-be68-0324cb218ed9",
   "metadata": {},
   "outputs": [],
   "source": [
    "feature_corr = star_df.corr().abs()[\"class\"] # corrolation of of features based on the target.\n",
    "star_df = star_df.loc[:, feature_corr >= 0.05] # take the most correlated features."
   ]
  },
  {
   "cell_type": "markdown",
   "id": "062bea3e-2c4c-4ad9-ad54-f686ade6be0e",
   "metadata": {},
   "source": [
    "Evaluate remaining variables:"
   ]
  },
  {
   "cell_type": "code",
   "execution_count": 648,
   "id": "b0953985-5ea2-406d-8e46-dfbf89e775e5",
   "metadata": {},
   "outputs": [
    {
     "name": "stdout",
     "output_type": "stream",
     "text": [
      "<class 'pandas.core.frame.DataFrame'>\n",
      "Int64Index: 99999 entries, 0 to 99999\n",
      "Data columns (total 6 columns):\n",
      " #   Column    Non-Null Count  Dtype  \n",
      "---  ------    --------------  -----  \n",
      " 0   u         99999 non-null  float64\n",
      " 1   g         99999 non-null  float64\n",
      " 2   r         99999 non-null  float64\n",
      " 3   z         99999 non-null  float64\n",
      " 4   class     99999 non-null  int32  \n",
      " 5   redshift  99999 non-null  float64\n",
      "dtypes: float64(5), int32(1)\n",
      "memory usage: 5.0 MB\n"
     ]
    }
   ],
   "source": [
    "star_df.info()"
   ]
  },
  {
   "cell_type": "code",
   "execution_count": 649,
   "id": "bd2b29ea-b2fe-488e-bd09-6ad180a48d35",
   "metadata": {},
   "outputs": [
    {
     "data": {
      "text/html": [
       "<div>\n",
       "<style scoped>\n",
       "    .dataframe tbody tr th:only-of-type {\n",
       "        vertical-align: middle;\n",
       "    }\n",
       "\n",
       "    .dataframe tbody tr th {\n",
       "        vertical-align: top;\n",
       "    }\n",
       "\n",
       "    .dataframe thead tr th {\n",
       "        text-align: left;\n",
       "    }\n",
       "\n",
       "    .dataframe thead tr:last-of-type th {\n",
       "        text-align: right;\n",
       "    }\n",
       "</style>\n",
       "<table border=\"1\" class=\"dataframe\">\n",
       "  <thead>\n",
       "    <tr>\n",
       "      <th></th>\n",
       "      <th colspan=\"8\" halign=\"left\">u</th>\n",
       "      <th colspan=\"8\" halign=\"left\">g</th>\n",
       "      <th colspan=\"8\" halign=\"left\">r</th>\n",
       "      <th colspan=\"8\" halign=\"left\">z</th>\n",
       "      <th colspan=\"8\" halign=\"left\">redshift</th>\n",
       "    </tr>\n",
       "    <tr>\n",
       "      <th></th>\n",
       "      <th>count</th>\n",
       "      <th>mean</th>\n",
       "      <th>std</th>\n",
       "      <th>min</th>\n",
       "      <th>25%</th>\n",
       "      <th>50%</th>\n",
       "      <th>75%</th>\n",
       "      <th>max</th>\n",
       "      <th>count</th>\n",
       "      <th>mean</th>\n",
       "      <th>std</th>\n",
       "      <th>min</th>\n",
       "      <th>25%</th>\n",
       "      <th>50%</th>\n",
       "      <th>75%</th>\n",
       "      <th>max</th>\n",
       "      <th>count</th>\n",
       "      <th>mean</th>\n",
       "      <th>std</th>\n",
       "      <th>min</th>\n",
       "      <th>25%</th>\n",
       "      <th>50%</th>\n",
       "      <th>75%</th>\n",
       "      <th>max</th>\n",
       "      <th>count</th>\n",
       "      <th>mean</th>\n",
       "      <th>std</th>\n",
       "      <th>min</th>\n",
       "      <th>25%</th>\n",
       "      <th>50%</th>\n",
       "      <th>75%</th>\n",
       "      <th>max</th>\n",
       "      <th>count</th>\n",
       "      <th>mean</th>\n",
       "      <th>std</th>\n",
       "      <th>min</th>\n",
       "      <th>25%</th>\n",
       "      <th>50%</th>\n",
       "      <th>75%</th>\n",
       "      <th>max</th>\n",
       "    </tr>\n",
       "    <tr>\n",
       "      <th>class</th>\n",
       "      <th></th>\n",
       "      <th></th>\n",
       "      <th></th>\n",
       "      <th></th>\n",
       "      <th></th>\n",
       "      <th></th>\n",
       "      <th></th>\n",
       "      <th></th>\n",
       "      <th></th>\n",
       "      <th></th>\n",
       "      <th></th>\n",
       "      <th></th>\n",
       "      <th></th>\n",
       "      <th></th>\n",
       "      <th></th>\n",
       "      <th></th>\n",
       "      <th></th>\n",
       "      <th></th>\n",
       "      <th></th>\n",
       "      <th></th>\n",
       "      <th></th>\n",
       "      <th></th>\n",
       "      <th></th>\n",
       "      <th></th>\n",
       "      <th></th>\n",
       "      <th></th>\n",
       "      <th></th>\n",
       "      <th></th>\n",
       "      <th></th>\n",
       "      <th></th>\n",
       "      <th></th>\n",
       "      <th></th>\n",
       "      <th></th>\n",
       "      <th></th>\n",
       "      <th></th>\n",
       "      <th></th>\n",
       "      <th></th>\n",
       "      <th></th>\n",
       "      <th></th>\n",
       "      <th></th>\n",
       "    </tr>\n",
       "  </thead>\n",
       "  <tbody>\n",
       "    <tr>\n",
       "      <th>0</th>\n",
       "      <td>59445.0</td>\n",
       "      <td>22.587379</td>\n",
       "      <td>2.264355</td>\n",
       "      <td>13.89799</td>\n",
       "      <td>20.79476</td>\n",
       "      <td>22.84177</td>\n",
       "      <td>24.20741</td>\n",
       "      <td>29.32565</td>\n",
       "      <td>59445.0</td>\n",
       "      <td>20.906101</td>\n",
       "      <td>2.107755</td>\n",
       "      <td>12.67902</td>\n",
       "      <td>18.91268</td>\n",
       "      <td>21.58220</td>\n",
       "      <td>22.44513</td>\n",
       "      <td>31.60224</td>\n",
       "      <td>59445.0</td>\n",
       "      <td>19.587552</td>\n",
       "      <td>1.874133</td>\n",
       "      <td>11.74664</td>\n",
       "      <td>17.81715</td>\n",
       "      <td>20.10459</td>\n",
       "      <td>20.97461</td>\n",
       "      <td>29.57186</td>\n",
       "      <td>59445.0</td>\n",
       "      <td>18.449156</td>\n",
       "      <td>1.656302</td>\n",
       "      <td>10.897380</td>\n",
       "      <td>17.09567</td>\n",
       "      <td>18.76663</td>\n",
       "      <td>19.47226</td>\n",
       "      <td>29.38374</td>\n",
       "      <td>59445.0</td>\n",
       "      <td>0.421596</td>\n",
       "      <td>0.264858</td>\n",
       "      <td>-0.009971</td>\n",
       "      <td>0.164527</td>\n",
       "      <td>0.456274</td>\n",
       "      <td>0.594699</td>\n",
       "      <td>1.995524</td>\n",
       "    </tr>\n",
       "    <tr>\n",
       "      <th>1</th>\n",
       "      <td>18961.0</td>\n",
       "      <td>21.547619</td>\n",
       "      <td>1.495879</td>\n",
       "      <td>10.99623</td>\n",
       "      <td>20.63764</td>\n",
       "      <td>21.50324</td>\n",
       "      <td>22.28647</td>\n",
       "      <td>32.78139</td>\n",
       "      <td>18961.0</td>\n",
       "      <td>20.926193</td>\n",
       "      <td>1.163239</td>\n",
       "      <td>13.66217</td>\n",
       "      <td>20.24973</td>\n",
       "      <td>21.05629</td>\n",
       "      <td>21.68777</td>\n",
       "      <td>27.89482</td>\n",
       "      <td>18961.0</td>\n",
       "      <td>20.624089</td>\n",
       "      <td>1.084237</td>\n",
       "      <td>12.35763</td>\n",
       "      <td>20.00633</td>\n",
       "      <td>20.77272</td>\n",
       "      <td>21.41345</td>\n",
       "      <td>27.39709</td>\n",
       "      <td>18961.0</td>\n",
       "      <td>20.266732</td>\n",
       "      <td>1.095076</td>\n",
       "      <td>11.302470</td>\n",
       "      <td>19.64425</td>\n",
       "      <td>20.37397</td>\n",
       "      <td>21.00123</td>\n",
       "      <td>28.79055</td>\n",
       "      <td>18961.0</td>\n",
       "      <td>1.719676</td>\n",
       "      <td>0.913954</td>\n",
       "      <td>0.000461</td>\n",
       "      <td>1.106605</td>\n",
       "      <td>1.617232</td>\n",
       "      <td>2.220279</td>\n",
       "      <td>7.011245</td>\n",
       "    </tr>\n",
       "    <tr>\n",
       "      <th>2</th>\n",
       "      <td>21593.0</td>\n",
       "      <td>21.153830</td>\n",
       "      <td>2.360482</td>\n",
       "      <td>12.10168</td>\n",
       "      <td>19.32774</td>\n",
       "      <td>21.01065</td>\n",
       "      <td>22.96063</td>\n",
       "      <td>30.66039</td>\n",
       "      <td>21593.0</td>\n",
       "      <td>19.617142</td>\n",
       "      <td>2.119478</td>\n",
       "      <td>10.49820</td>\n",
       "      <td>18.03487</td>\n",
       "      <td>19.54283</td>\n",
       "      <td>21.22877</td>\n",
       "      <td>30.60700</td>\n",
       "      <td>21593.0</td>\n",
       "      <td>18.947005</td>\n",
       "      <td>1.972825</td>\n",
       "      <td>9.82207</td>\n",
       "      <td>17.45395</td>\n",
       "      <td>18.95513</td>\n",
       "      <td>20.55757</td>\n",
       "      <td>29.37411</td>\n",
       "      <td>21593.0</td>\n",
       "      <td>18.334295</td>\n",
       "      <td>1.843201</td>\n",
       "      <td>9.612333</td>\n",
       "      <td>16.96417</td>\n",
       "      <td>18.31923</td>\n",
       "      <td>19.72963</td>\n",
       "      <td>26.42779</td>\n",
       "      <td>21593.0</td>\n",
       "      <td>-0.000115</td>\n",
       "      <td>0.000465</td>\n",
       "      <td>-0.004136</td>\n",
       "      <td>-0.000295</td>\n",
       "      <td>-0.000076</td>\n",
       "      <td>0.000075</td>\n",
       "      <td>0.004153</td>\n",
       "    </tr>\n",
       "  </tbody>\n",
       "</table>\n",
       "</div>"
      ],
      "text/plain": [
       "             u                                                               \\\n",
       "         count       mean       std       min       25%       50%       75%   \n",
       "class                                                                         \n",
       "0      59445.0  22.587379  2.264355  13.89799  20.79476  22.84177  24.20741   \n",
       "1      18961.0  21.547619  1.495879  10.99623  20.63764  21.50324  22.28647   \n",
       "2      21593.0  21.153830  2.360482  12.10168  19.32774  21.01065  22.96063   \n",
       "\n",
       "                       g                                                     \\\n",
       "            max    count       mean       std       min       25%       50%   \n",
       "class                                                                         \n",
       "0      29.32565  59445.0  20.906101  2.107755  12.67902  18.91268  21.58220   \n",
       "1      32.78139  18961.0  20.926193  1.163239  13.66217  20.24973  21.05629   \n",
       "2      30.66039  21593.0  19.617142  2.119478  10.49820  18.03487  19.54283   \n",
       "\n",
       "                                 r                                           \\\n",
       "            75%       max    count       mean       std       min       25%   \n",
       "class                                                                         \n",
       "0      22.44513  31.60224  59445.0  19.587552  1.874133  11.74664  17.81715   \n",
       "1      21.68777  27.89482  18961.0  20.624089  1.084237  12.35763  20.00633   \n",
       "2      21.22877  30.60700  21593.0  18.947005  1.972825   9.82207  17.45395   \n",
       "\n",
       "                                           z                                  \\\n",
       "            50%       75%       max    count       mean       std        min   \n",
       "class                                                                          \n",
       "0      20.10459  20.97461  29.57186  59445.0  18.449156  1.656302  10.897380   \n",
       "1      20.77272  21.41345  27.39709  18961.0  20.266732  1.095076  11.302470   \n",
       "2      18.95513  20.55757  29.37411  21593.0  18.334295  1.843201   9.612333   \n",
       "\n",
       "                                              redshift                      \\\n",
       "            25%       50%       75%       max    count      mean       std   \n",
       "class                                                                        \n",
       "0      17.09567  18.76663  19.47226  29.38374  59445.0  0.421596  0.264858   \n",
       "1      19.64425  20.37397  21.00123  28.79055  18961.0  1.719676  0.913954   \n",
       "2      16.96417  18.31923  19.72963  26.42779  21593.0 -0.000115  0.000465   \n",
       "\n",
       "                                                         \n",
       "            min       25%       50%       75%       max  \n",
       "class                                                    \n",
       "0     -0.009971  0.164527  0.456274  0.594699  1.995524  \n",
       "1      0.000461  1.106605  1.617232  2.220279  7.011245  \n",
       "2     -0.004136 -0.000295 -0.000076  0.000075  0.004153  "
      ]
     },
     "execution_count": 649,
     "metadata": {},
     "output_type": "execute_result"
    }
   ],
   "source": [
    "# Statistical information regarding each feature split on the target class.\n",
    "star_df.groupby(\"class\").describe()"
   ]
  },
  {
   "cell_type": "code",
   "execution_count": 650,
   "id": "13e859b0-7e2f-49da-b1e3-9a2e57f813f5",
   "metadata": {
    "scrolled": true,
    "tags": []
   },
   "outputs": [
    {
     "data": {
      "image/png": "[encoded data removed]",
      "text/plain": [
       "<Figure size 360x1800 with 5 Axes>"
      ]
     },
     "metadata": {
      "needs_background": "light"
     },
     "output_type": "display_data"
    }
   ],
   "source": [
    "N = len(star_df.columns[1:])\n",
    "\n",
    "fig, axs = plt.subplots(N, figsize=(5, N*5))\n",
    "for ax, column in zip(axs, star_df.columns[1:]):\n",
    "    sns.boxplot(data=star_df, x=\"class\", y=column, ax=ax)\n",
    "\n",
    "plt.show()"
   ]
  },
  {
   "cell_type": "markdown",
   "id": "38d89321-c18c-4820-a63a-49d5bcae4daf",
   "metadata": {},
   "source": [
    "We note the remaining features distributions seem differ depending on the class which should help the model classify."
   ]
  },
  {
   "cell_type": "code",
   "execution_count": 651,
   "id": "2e5ce4b2-b80e-408a-abc0-5ad89afa24e6",
   "metadata": {},
   "outputs": [
    {
     "data": {
      "text/plain": [
       "<AxesSubplot:>"
      ]
     },
     "execution_count": 651,
     "metadata": {},
     "output_type": "execute_result"
    },
    {
     "data": {
      "image/png": "[encoded data removed]",
      "text/plain": [
       "<Figure size 432x288 with 2 Axes>"
      ]
     },
     "metadata": {
      "needs_background": "light"
     },
     "output_type": "display_data"
    }
   ],
   "source": [
    "sns.heatmap(data=star_df.corr().abs())"
   ]
  },
  {
   "cell_type": "markdown",
   "id": "4e341c74-b531-495c-8a9e-273446bcdb07",
   "metadata": {},
   "source": [
    "u, g, r and z seem to have high corolation between one another. This suggests that a non-linear clasifier may do better on this task."
   ]
  },
  {
   "cell_type": "markdown",
   "id": "fbc5792a-5a47-47d7-9393-6945d7b6b348",
   "metadata": {},
   "source": [
    "Class distribution:"
   ]
  },
  {
   "cell_type": "code",
   "execution_count": 652,
   "id": "0031b21c-7fa5-4ed7-85cf-5a984ad00254",
   "metadata": {},
   "outputs": [
    {
     "name": "stdout",
     "output_type": "stream",
     "text": [
      "Percentage of each Class:\n",
      "0    0.594456\n",
      "2    0.215932\n",
      "1    0.189612\n",
      "Name: class, dtype: float64\n",
      "\n",
      "Number of Samples of each Class:\n",
      "0    59445\n",
      "2    21593\n",
      "1    18961\n",
      "Name: class, dtype: int64\n",
      "Where: {'GALAXY': 0, 'QSO': 1, 'STAR': 2}\n"
     ]
    }
   ],
   "source": [
    "# check class balance in dataset.\n",
    "print(\"Percentage of each Class:\")\n",
    "print(star_df[\"class\"].value_counts(normalize=True))\n",
    "print(\"\\nNumber of Samples of each Class:\")\n",
    "print(star_df[\"class\"].value_counts())\n",
    "\n",
    "mapping = {le.inverse_transform([t])[0]: t for t in range(len(star_df[\"class\"].unique())) }\n",
    "print(\"Where:\", mapping)"
   ]
  },
  {
   "cell_type": "markdown",
   "id": "8c541d4a-bfc4-4576-bdb0-bc492fe84e87",
   "metadata": {},
   "source": [
    "### Splitting Datatset to Train/Validation/Test Sets"
   ]
  },
  {
   "cell_type": "code",
   "execution_count": 653,
   "id": "24f90372-b6ba-4b35-9feb-022884ab78a2",
   "metadata": {},
   "outputs": [],
   "source": [
    "y = star_df[\"class\"].to_numpy()\n",
    "X = star_df.drop(\"class\", axis=1).to_numpy()"
   ]
  },
  {
   "cell_type": "code",
   "execution_count": 654,
   "id": "cd3ee103-154a-4b53-bce6-9de9c58a733a",
   "metadata": {},
   "outputs": [],
   "source": [
    "X_train, X_test, y_train, y_test = train_test_split(X, y, train_size=0.8, stratify=y)"
   ]
  },
  {
   "cell_type": "code",
   "execution_count": 655,
   "id": "135b3ff3-be28-4cd7-a321-3b67a0f230fd",
   "metadata": {},
   "outputs": [],
   "source": [
    "X_test, X_valid, y_test, y_valid = train_test_split(X_test, y_test, train_size=0.7, stratify=y_test)"
   ]
  },
  {
   "cell_type": "code",
   "execution_count": 656,
   "id": "a4680129-1bba-4869-9d9d-7c10641624e6",
   "metadata": {},
   "outputs": [],
   "source": [
    "scaler = StandardScaler().fit(X_train) # mean center and scale by sd the data.\n",
    "\n",
    "X_train = scaler.transform(X_train)\n",
    "X_valid = scaler.transform(X_valid)\n",
    "X_test = scaler.transform(X_test)"
   ]
  },
  {
   "cell_type": "code",
   "execution_count": 657,
   "id": "d1d02828-31cf-444e-b771-213102adb462",
   "metadata": {},
   "outputs": [
    {
     "name": "stdout",
     "output_type": "stream",
     "text": [
      "Dataset Dimensions:\n",
      "\tX_train: (79999, 5); y_train: (79999,)\n",
      "\tX_valid: (6000, 5); y_valid: (6000,)\n",
      "\tX_test: (14000, 5); y_test: (14000,)\n"
     ]
    }
   ],
   "source": [
    "print(f\"Dataset Dimensions:\\n\\tX_train: {X_train.shape}; y_train: {y_train.shape}\\n\\tX_valid: {X_valid.shape}; y_valid: {y_valid.shape}\\n\\tX_test: {X_test.shape}; y_test: {y_test.shape}\")"
   ]
  },
  {
   "cell_type": "markdown",
   "id": "2ec37248-a276-48e0-958a-bbc51b14e47a",
   "metadata": {},
   "source": [
    "### Create Neural Network and Helper Functions"
   ]
  },
  {
   "cell_type": "code",
   "execution_count": 659,
   "id": "56c76869-eba2-46ce-8532-a7a200a2e8a2",
   "metadata": {},
   "outputs": [],
   "source": [
    "class NeuralNetwork(nn.Module):\n",
    "    def __init__(self, layer_list):\n",
    "        super(NeuralNetwork, self).__init__()\n",
    "        \n",
    "        self.model = nn.Sequential()\n",
    "        \n",
    "        for in_size, out_size in zip(layer_list[:-1], layer_list[1:]):\n",
    "            self.model.append(nn.Linear(in_size, out_size))\n",
    "            self.model.append(nn.ReLU())\n",
    "        \n",
    "                \n",
    "    def forward(self, X):\n",
    "        return self.model(X)\n",
    "\n",
    "def fit(model, criterion, optimizer, epochs, data, progress=True):\n",
    "    train_generator, valid_generator = data\n",
    "    \n",
    "    history = {\n",
    "                \"train_loss\": [],\n",
    "                \"validation_loss\": [],\n",
    "                \"train_accuracy\": [],\n",
    "                \"validation_accuracy\": []\n",
    "    }\n",
    "    \n",
    "    for e in range(epochs):\n",
    "        model.train()\n",
    "        \n",
    "        if progress:\n",
    "            print(\"Epoch:\", e+1)\n",
    "            train_loader = tqdm(train_generator)\n",
    "            train_loader.set_description(desc=f\"Training loss: {np.NAN}\")\n",
    "        else:\n",
    "            train_loader = train_generator\n",
    "            \n",
    "        loss = 0\n",
    "        for i, (X, y) in enumerate(train_loader):\n",
    "\n",
    "            y_hat = model(X)\n",
    "            batch_loss = criterion(y_hat, y)\n",
    "            loss += batch_loss.item()\n",
    "        \n",
    "            optimizer.zero_grad()\n",
    "            batch_loss.backward()\n",
    "            optimizer.step()\n",
    "            \n",
    "            if progress:\n",
    "                train_loader.set_description(desc=f\"Training loss: {loss/(i+1)}\")\n",
    "        \n",
    "        train_eval = evaluate(model, criterion, train_generator)\n",
    "        valid_eval = evaluate(model, criterion, valid_generator)\n",
    "        \n",
    "        history[\"train_loss\"].append(train_eval[0])\n",
    "        history[\"validation_loss\"].append(valid_eval[0])\n",
    "        history[\"train_accuracy\"].append(train_eval[1])\n",
    "        history[\"validation_accuracy\"].append(valid_eval[1])\n",
    "        \n",
    "        if progress:\n",
    "            print(f\"Train loss: {train_eval[0]} | Train Accuracy: {train_eval[1]} || Validation loss: {valid_eval[0]} | Validation Accuracy: {valid_eval[1]}\")\n",
    "            \n",
    "    return history\n",
    "\n",
    "def evaluate(model, criterion, data_loader):\n",
    "    model.eval()\n",
    "    \n",
    "    loss = 0\n",
    "    acc = 0\n",
    "    \n",
    "    for X, y in data_loader:\n",
    "        y_hat = model(X)\n",
    "        loss += float(criterion(y_hat, y))\n",
    "        \n",
    "        y_hat = torch.argmax(y_hat, axis=1)\n",
    "        \n",
    "        acc += float(torch.sum(y == y_hat))\n",
    "    \n",
    "    loss /= len(data_loader)\n",
    "    acc /= len(data_loader.dataset)\n",
    "\n",
    "    return (loss, acc)\n",
    "    \n",
    "def toDataloader(X, y, batch_size, shuffle):\n",
    "    X_T = torch.Tensor(X)\n",
    "    y_T = torch.Tensor(y).type(torch.LongTensor)\n",
    "    \n",
    "    dataset = torch.utils.data.TensorDataset(X_T, y_T)\n",
    "    \n",
    "    return torch.utils.data.DataLoader(dataset, batch_size, shuffle)"
   ]
  },
  {
   "cell_type": "markdown",
   "id": "219de57c-f254-4cd3-a3bb-1fe70121b885",
   "metadata": {},
   "source": [
    "Hyperparameters:"
   ]
  },
  {
   "cell_type": "code",
   "execution_count": 696,
   "id": "1b5869ed-5fee-49ec-923a-8d61bd6b7f35",
   "metadata": {},
   "outputs": [],
   "source": [
    "batch_size = 256\n",
    "epochs = 50\n",
    "network_layers = [X_train.shape[1], 100, 50, len(np.unique(y_train))]\n",
    "learning_rate = 0.0001\n",
    "regularization = 0"
   ]
  },
  {
   "cell_type": "markdown",
   "id": "c2cf514a-c1e2-42f8-9836-8430f1aab156",
   "metadata": {},
   "source": [
    "Train Neural Network"
   ]
  },
  {
   "cell_type": "code",
   "execution_count": 697,
   "id": "183b458f-e9be-417c-ae46-731c36f774a3",
   "metadata": {},
   "outputs": [],
   "source": [
    "train_dataloader = toDataloader(X_train, y_train, batch_size, True)\n",
    "valid_dataloader = toDataloader(X_valid, y_valid, batch_size, True)\n",
    "test_dataloader = toDataloader(X_test, y_test, batch_size, False)"
   ]
  },
  {
   "cell_type": "code",
   "execution_count": 698,
   "id": "303b254f-cfec-4ce7-8ef9-96c143723edf",
   "metadata": {},
   "outputs": [],
   "source": [
    "star_classifier = NeuralNetwork(network_layers)\n",
    "criterion = nn.CrossEntropyLoss()\n",
    "optimizer = torch.optim.Adam(star_classifier.parameters(), lr=learning_rate, weight_decay=regularization)"
   ]
  },
  {
   "cell_type": "code",
   "execution_count": 699,
   "id": "df3052d9-7462-43cc-b62e-376a671371be",
   "metadata": {
    "tags": []
   },
   "outputs": [
    {
     "name": "stdout",
     "output_type": "stream",
     "text": [
      "Epoch: 1\n"
     ]
    },
    {
     "data": {
      "application/vnd.jupyter.widget-view+json": {
       "model_id": "1564cefeca9041b29d8b0cd4c229579e",
       "version_major": 2,
       "version_minor": 0
      },
      "text/plain": [
       "  0%|          | 0/313 [00:00<?, ?it/s]"
      ]
     },
     "metadata": {},
     "output_type": "display_data"
    },
    {
     "name": "stdout",
     "output_type": "stream",
     "text": [
      "Train loss: 0.7013919962861668 | Train Accuracy: 0.7637220465255816 || Validation loss: 0.6999557117621104 | Validation Accuracy: 0.7683333333333333\n",
      "Epoch: 2\n"
     ]
    },
    {
     "data": {
      "application/vnd.jupyter.widget-view+json": {
       "model_id": "02283a5cb8604cea80bc3c3efca68fbe",
       "version_major": 2,
       "version_minor": 0
      },
      "text/plain": [
       "  0%|          | 0/313 [00:00<?, ?it/s]"
      ]
     },
     "metadata": {},
     "output_type": "display_data"
    },
    {
     "name": "stdout",
     "output_type": "stream",
     "text": [
      "Train loss: 0.4198205660516843 | Train Accuracy: 0.8581732271653396 || Validation loss: 0.41922656322518986 | Validation Accuracy: 0.8558333333333333\n",
      "Epoch: 3\n"
     ]
    },
    {
     "data": {
      "application/vnd.jupyter.widget-view+json": {
       "model_id": "555075f48b894f7f96e554fe157b3db2",
       "version_major": 2,
       "version_minor": 0
      },
      "text/plain": [
       "  0%|          | 0/313 [00:00<?, ?it/s]"
      ]
     },
     "metadata": {},
     "output_type": "display_data"
    },
    {
     "name": "stdout",
     "output_type": "stream",
     "text": [
      "Train loss: 0.30815173680789937 | Train Accuracy: 0.8996112451405642 || Validation loss: 0.3059539869427681 | Validation Accuracy: 0.8968333333333334\n",
      "Epoch: 4\n"
     ]
    },
    {
     "data": {
      "application/vnd.jupyter.widget-view+json": {
       "model_id": "3225b939780f491f91f179dca0a17484",
       "version_major": 2,
       "version_minor": 0
      },
      "text/plain": [
       "  0%|          | 0/313 [00:00<?, ?it/s]"
      ]
     },
     "metadata": {},
     "output_type": "display_data"
    },
    {
     "name": "stdout",
     "output_type": "stream",
     "text": [
      "Train loss: 0.25692442559396117 | Train Accuracy: 0.9152239402992537 || Validation loss: 0.2528109457343817 | Validation Accuracy: 0.9155\n",
      "Epoch: 5\n"
     ]
    },
    {
     "data": {
      "application/vnd.jupyter.widget-view+json": {
       "model_id": "1a4f7db8505d4a129c7d50ad47133df5",
       "version_major": 2,
       "version_minor": 0
      },
      "text/plain": [
       "  0%|          | 0/313 [00:00<?, ?it/s]"
      ]
     },
     "metadata": {},
     "output_type": "display_data"
    },
    {
     "name": "stdout",
     "output_type": "stream",
     "text": [
      "Train loss: 0.22729529449924493 | Train Accuracy: 0.926111576394705 || Validation loss: 0.22293783475955328 | Validation Accuracy: 0.9255\n",
      "Epoch: 6\n"
     ]
    },
    {
     "data": {
      "application/vnd.jupyter.widget-view+json": {
       "model_id": "ff55886986cc489285d78018d11c4472",
       "version_major": 2,
       "version_minor": 0
      },
      "text/plain": [
       "  0%|          | 0/313 [00:00<?, ?it/s]"
      ]
     },
     "metadata": {},
     "output_type": "display_data"
    },
    {
     "name": "stdout",
     "output_type": "stream",
     "text": [
      "Train loss: 0.20581091450045283 | Train Accuracy: 0.9353741921774023 || Validation loss: 0.20280163486798605 | Validation Accuracy: 0.9351666666666667\n",
      "Epoch: 7\n"
     ]
    },
    {
     "data": {
      "application/vnd.jupyter.widget-view+json": {
       "model_id": "30bd799552514ef7ab0ebe5c89a6638d",
       "version_major": 2,
       "version_minor": 0
      },
      "text/plain": [
       "  0%|          | 0/313 [00:00<?, ?it/s]"
      ]
     },
     "metadata": {},
     "output_type": "display_data"
    },
    {
     "name": "stdout",
     "output_type": "stream",
     "text": [
      "Train loss: 0.1906891378541343 | Train Accuracy: 0.9413242665533319 || Validation loss: 0.18861603612701097 | Validation Accuracy: 0.9416666666666667\n",
      "Epoch: 8\n"
     ]
    },
    {
     "data": {
      "application/vnd.jupyter.widget-view+json": {
       "model_id": "d5da8c5be9e845628e122d39c465a19d",
       "version_major": 2,
       "version_minor": 0
      },
      "text/plain": [
       "  0%|          | 0/313 [00:00<?, ?it/s]"
      ]
     },
     "metadata": {},
     "output_type": "display_data"
    },
    {
     "name": "stdout",
     "output_type": "stream",
     "text": [
      "Train loss: 0.1791800926811398 | Train Accuracy: 0.9455118188977362 || Validation loss: 0.17772616632282734 | Validation Accuracy: 0.9463333333333334\n",
      "Epoch: 9\n"
     ]
    },
    {
     "data": {
      "application/vnd.jupyter.widget-view+json": {
       "model_id": "cd7561b9e2f84f429ab811c6846febe9",
       "version_major": 2,
       "version_minor": 0
      },
      "text/plain": [
       "  0%|          | 0/313 [00:00<?, ?it/s]"
      ]
     },
     "metadata": {},
     "output_type": "display_data"
    },
    {
     "name": "stdout",
     "output_type": "stream",
     "text": [
      "Train loss: 0.1700329939825847 | Train Accuracy: 0.9491118638982987 || Validation loss: 0.1679011412585775 | Validation Accuracy: 0.9486666666666667\n",
      "Epoch: 10\n"
     ]
    },
    {
     "data": {
      "application/vnd.jupyter.widget-view+json": {
       "model_id": "85915c309d704e43afc035ae2ba8611c",
       "version_major": 2,
       "version_minor": 0
      },
      "text/plain": [
       "  0%|          | 0/313 [00:00<?, ?it/s]"
      ]
     },
     "metadata": {},
     "output_type": "display_data"
    },
    {
     "name": "stdout",
     "output_type": "stream",
     "text": [
      "Train loss: 0.16258026957035826 | Train Accuracy: 0.9517493968674609 || Validation loss: 0.1595372554535667 | Validation Accuracy: 0.9516666666666667\n",
      "Epoch: 11\n"
     ]
    },
    {
     "data": {
      "application/vnd.jupyter.widget-view+json": {
       "model_id": "7dafcfd75bc746dd98e7e86473469c5d",
       "version_major": 2,
       "version_minor": 0
      },
      "text/plain": [
       "  0%|          | 0/313 [00:00<?, ?it/s]"
      ]
     },
     "metadata": {},
     "output_type": "display_data"
    },
    {
     "name": "stdout",
     "output_type": "stream",
     "text": [
      "Train loss: 0.15640767542318032 | Train Accuracy: 0.9547369342116776 || Validation loss: 0.1538970833644271 | Validation Accuracy: 0.9548333333333333\n",
      "Epoch: 12\n"
     ]
    },
    {
     "data": {
      "application/vnd.jupyter.widget-view+json": {
       "model_id": "a628c6521bc640f8b950d451812d502b",
       "version_major": 2,
       "version_minor": 0
      },
      "text/plain": [
       "  0%|          | 0/313 [00:00<?, ?it/s]"
      ]
     },
     "metadata": {},
     "output_type": "display_data"
    },
    {
     "name": "stdout",
     "output_type": "stream",
     "text": [
      "Train loss: 0.1503348129863937 | Train Accuracy: 0.9556494456180702 || Validation loss: 0.14859490934759378 | Validation Accuracy: 0.9555\n",
      "Epoch: 13\n"
     ]
    },
    {
     "data": {
      "application/vnd.jupyter.widget-view+json": {
       "model_id": "5c3b979ea2254fc188c0f0c0178600f9",
       "version_major": 2,
       "version_minor": 0
      },
      "text/plain": [
       "  0%|          | 0/313 [00:00<?, ?it/s]"
      ]
     },
     "metadata": {},
     "output_type": "display_data"
    },
    {
     "name": "stdout",
     "output_type": "stream",
     "text": [
      "Train loss: 0.14533752590989152 | Train Accuracy: 0.9577119713996425 || Validation loss: 0.14177671167999506 | Validation Accuracy: 0.9575\n",
      "Epoch: 14\n"
     ]
    },
    {
     "data": {
      "application/vnd.jupyter.widget-view+json": {
       "model_id": "dd038d59ce1c406e81722eda9f3e42d4",
       "version_major": 2,
       "version_minor": 0
      },
      "text/plain": [
       "  0%|          | 0/313 [00:00<?, ?it/s]"
      ]
     },
     "metadata": {},
     "output_type": "display_data"
    },
    {
     "name": "stdout",
     "output_type": "stream",
     "text": [
      "Train loss: 0.14157780538351772 | Train Accuracy: 0.9581869773372167 || Validation loss: 0.13948879266778627 | Validation Accuracy: 0.9581666666666667\n",
      "Epoch: 15\n"
     ]
    },
    {
     "data": {
      "application/vnd.jupyter.widget-view+json": {
       "model_id": "836c635734714a2580b1af99fa99bedd",
       "version_major": 2,
       "version_minor": 0
      },
      "text/plain": [
       "  0%|          | 0/313 [00:00<?, ?it/s]"
      ]
     },
     "metadata": {},
     "output_type": "display_data"
    },
    {
     "name": "stdout",
     "output_type": "stream",
     "text": [
      "Train loss: 0.1382881700278471 | Train Accuracy: 0.9585494818685234 || Validation loss: 0.13521606164673963 | Validation Accuracy: 0.958\n",
      "Epoch: 16\n"
     ]
    },
    {
     "data": {
      "application/vnd.jupyter.widget-view+json": {
       "model_id": "ecc8ffa23738451cbd0793be28fc38b7",
       "version_major": 2,
       "version_minor": 0
      },
      "text/plain": [
       "  0%|          | 0/313 [00:00<?, ?it/s]"
      ]
     },
     "metadata": {},
     "output_type": "display_data"
    },
    {
     "name": "stdout",
     "output_type": "stream",
     "text": [
      "Train loss: 0.13531103827797186 | Train Accuracy: 0.9597494968687108 || Validation loss: 0.1328941471874714 | Validation Accuracy: 0.9595\n",
      "Epoch: 17\n"
     ]
    },
    {
     "data": {
      "application/vnd.jupyter.widget-view+json": {
       "model_id": "5c42baa5f5bf4f68b0131867cfbbde9f",
       "version_major": 2,
       "version_minor": 0
      },
      "text/plain": [
       "  0%|          | 0/313 [00:00<?, ?it/s]"
      ]
     },
     "metadata": {},
     "output_type": "display_data"
    },
    {
     "name": "stdout",
     "output_type": "stream",
     "text": [
      "Train loss: 0.13287088808160238 | Train Accuracy: 0.9601745021812773 || Validation loss: 0.13043515415241322 | Validation Accuracy: 0.9598333333333333\n",
      "Epoch: 18\n"
     ]
    },
    {
     "data": {
      "application/vnd.jupyter.widget-view+json": {
       "model_id": "ca186aa72f18419b9a2d96ebd5616cf3",
       "version_major": 2,
       "version_minor": 0
      },
      "text/plain": [
       "  0%|          | 0/313 [00:00<?, ?it/s]"
      ]
     },
     "metadata": {},
     "output_type": "display_data"
    },
    {
     "name": "stdout",
     "output_type": "stream",
     "text": [
      "Train loss: 0.13055822911401527 | Train Accuracy: 0.9607495093688672 || Validation loss: 0.12626588344573975 | Validation Accuracy: 0.9608333333333333\n",
      "Epoch: 19\n"
     ]
    },
    {
     "data": {
      "application/vnd.jupyter.widget-view+json": {
       "model_id": "cb88022b8d71428ea6d39be5011ceba2",
       "version_major": 2,
       "version_minor": 0
      },
      "text/plain": [
       "  0%|          | 0/313 [00:00<?, ?it/s]"
      ]
     },
     "metadata": {},
     "output_type": "display_data"
    },
    {
     "name": "stdout",
     "output_type": "stream",
     "text": [
      "Train loss: 0.12841985255670244 | Train Accuracy: 0.9611745146814336 || Validation loss: 0.12509039354821047 | Validation Accuracy: 0.9608333333333333\n",
      "Epoch: 20\n"
     ]
    },
    {
     "data": {
      "application/vnd.jupyter.widget-view+json": {
       "model_id": "9727578a006f47cbad6239af6bb0cc71",
       "version_major": 2,
       "version_minor": 0
      },
      "text/plain": [
       "  0%|          | 0/313 [00:00<?, ?it/s]"
      ]
     },
     "metadata": {},
     "output_type": "display_data"
    },
    {
     "name": "stdout",
     "output_type": "stream",
     "text": [
      "Train loss: 0.12675564144604123 | Train Accuracy: 0.9615120189002363 || Validation loss: 0.1249171659971277 | Validation Accuracy: 0.9621666666666666\n",
      "Epoch: 21\n"
     ]
    },
    {
     "data": {
      "application/vnd.jupyter.widget-view+json": {
       "model_id": "a106517718df4f5bbebc4c36192a1470",
       "version_major": 2,
       "version_minor": 0
      },
      "text/plain": [
       "  0%|          | 0/313 [00:00<?, ?it/s]"
      ]
     },
     "metadata": {},
     "output_type": "display_data"
    },
    {
     "name": "stdout",
     "output_type": "stream",
     "text": [
      "Train loss: 0.12479926807621416 | Train Accuracy: 0.9620745259315742 || Validation loss: 0.12454938019315402 | Validation Accuracy: 0.9628333333333333\n",
      "Epoch: 22\n"
     ]
    },
    {
     "data": {
      "application/vnd.jupyter.widget-view+json": {
       "model_id": "4ed604989e8343fc85e81a47c1dd003a",
       "version_major": 2,
       "version_minor": 0
      },
      "text/plain": [
       "  0%|          | 0/313 [00:00<?, ?it/s]"
      ]
     },
     "metadata": {},
     "output_type": "display_data"
    },
    {
     "name": "stdout",
     "output_type": "stream",
     "text": [
      "Train loss: 0.12316286895935909 | Train Accuracy: 0.9625870323379042 || Validation loss: 0.11866699919725458 | Validation Accuracy: 0.9633333333333334\n",
      "Epoch: 23\n"
     ]
    },
    {
     "data": {
      "application/vnd.jupyter.widget-view+json": {
       "model_id": "9d3a1891b4384858a8dab4c9495307ac",
       "version_major": 2,
       "version_minor": 0
      },
      "text/plain": [
       "  0%|          | 0/313 [00:00<?, ?it/s]"
      ]
     },
     "metadata": {},
     "output_type": "display_data"
    },
    {
     "name": "stdout",
     "output_type": "stream",
     "text": [
      "Train loss: 0.12223758569921549 | Train Accuracy: 0.9635745446818085 || Validation loss: 0.12040955293923616 | Validation Accuracy: 0.9635\n",
      "Epoch: 24\n"
     ]
    },
    {
     "data": {
      "application/vnd.jupyter.widget-view+json": {
       "model_id": "7e302827ad57462fbdcd065c60e0b5ae",
       "version_major": 2,
       "version_minor": 0
      },
      "text/plain": [
       "  0%|          | 0/313 [00:00<?, ?it/s]"
      ]
     },
     "metadata": {},
     "output_type": "display_data"
    },
    {
     "name": "stdout",
     "output_type": "stream",
     "text": [
      "Train loss: 0.12036211576800758 | Train Accuracy: 0.9638620482756034 || Validation loss: 0.1174754857396086 | Validation Accuracy: 0.9653333333333334\n",
      "Epoch: 25\n"
     ]
    },
    {
     "data": {
      "application/vnd.jupyter.widget-view+json": {
       "model_id": "b8acecc171e04a68ad8c5d896663ca36",
       "version_major": 2,
       "version_minor": 0
      },
      "text/plain": [
       "  0%|          | 0/313 [00:00<?, ?it/s]"
      ]
     },
     "metadata": {},
     "output_type": "display_data"
    },
    {
     "name": "stdout",
     "output_type": "stream",
     "text": [
      "Train loss: 0.12013863188961443 | Train Accuracy: 0.9627245340566757 || Validation loss: 0.11753040629749496 | Validation Accuracy: 0.9623333333333334\n",
      "Epoch: 26\n"
     ]
    },
    {
     "data": {
      "application/vnd.jupyter.widget-view+json": {
       "model_id": "37955cc5a314475f9b119d907bba1f84",
       "version_major": 2,
       "version_minor": 0
      },
      "text/plain": [
       "  0%|          | 0/313 [00:00<?, ?it/s]"
      ]
     },
     "metadata": {},
     "output_type": "display_data"
    },
    {
     "name": "stdout",
     "output_type": "stream",
     "text": [
      "Train loss: 0.11820433604212614 | Train Accuracy: 0.9644495556194452 || Validation loss: 0.11551115568727255 | Validation Accuracy: 0.9655\n",
      "Epoch: 27\n"
     ]
    },
    {
     "data": {
      "application/vnd.jupyter.widget-view+json": {
       "model_id": "57311137254e4d8cb9cf26fded62c287",
       "version_major": 2,
       "version_minor": 0
      },
      "text/plain": [
       "  0%|          | 0/313 [00:00<?, ?it/s]"
      ]
     },
     "metadata": {},
     "output_type": "display_data"
    },
    {
     "name": "stdout",
     "output_type": "stream",
     "text": [
      "Train loss: 0.11811437439947083 | Train Accuracy: 0.9642245528069101 || Validation loss: 0.11533378157764673 | Validation Accuracy: 0.964\n",
      "Epoch: 28\n"
     ]
    },
    {
     "data": {
      "application/vnd.jupyter.widget-view+json": {
       "model_id": "d59a9b7b0e604482b936dc1f64224c91",
       "version_major": 2,
       "version_minor": 0
      },
      "text/plain": [
       "  0%|          | 0/313 [00:00<?, ?it/s]"
      ]
     },
     "metadata": {},
     "output_type": "display_data"
    },
    {
     "name": "stdout",
     "output_type": "stream",
     "text": [
      "Train loss: 0.11628170256702283 | Train Accuracy: 0.9644620557756972 || Validation loss: 0.11294531387587388 | Validation Accuracy: 0.9648333333333333\n",
      "Epoch: 29\n"
     ]
    },
    {
     "data": {
      "application/vnd.jupyter.widget-view+json": {
       "model_id": "23d98eb36c1341a6ae081b110c27a200",
       "version_major": 2,
       "version_minor": 0
      },
      "text/plain": [
       "  0%|          | 0/313 [00:00<?, ?it/s]"
      ]
     },
     "metadata": {},
     "output_type": "display_data"
    },
    {
     "name": "stdout",
     "output_type": "stream",
     "text": [
      "Train loss: 0.11556636019589041 | Train Accuracy: 0.9657245715571444 || Validation loss: 0.11435716257741053 | Validation Accuracy: 0.9675\n",
      "Epoch: 30\n"
     ]
    },
    {
     "data": {
      "application/vnd.jupyter.widget-view+json": {
       "model_id": "5c1699ba31224dc892e3bd6c26fb7eaf",
       "version_major": 2,
       "version_minor": 0
      },
      "text/plain": [
       "  0%|          | 0/313 [00:00<?, ?it/s]"
      ]
     },
     "metadata": {},
     "output_type": "display_data"
    },
    {
     "name": "stdout",
     "output_type": "stream",
     "text": [
      "Train loss: 0.11474344246208477 | Train Accuracy: 0.9646120576507207 || Validation loss: 0.1115266652777791 | Validation Accuracy: 0.9651666666666666\n",
      "Epoch: 31\n"
     ]
    },
    {
     "data": {
      "application/vnd.jupyter.widget-view+json": {
       "model_id": "73017336a8aa4fbb9c3819dd37cf624f",
       "version_major": 2,
       "version_minor": 0
      },
      "text/plain": [
       "  0%|          | 0/313 [00:00<?, ?it/s]"
      ]
     },
     "metadata": {},
     "output_type": "display_data"
    },
    {
     "name": "stdout",
     "output_type": "stream",
     "text": [
      "Train loss: 0.11359311546237705 | Train Accuracy: 0.9650620632757909 || Validation loss: 0.11034416345258553 | Validation Accuracy: 0.9658333333333333\n",
      "Epoch: 32\n"
     ]
    },
    {
     "data": {
      "application/vnd.jupyter.widget-view+json": {
       "model_id": "51aa05111b1f4375a646da3d0ed914d7",
       "version_major": 2,
       "version_minor": 0
      },
      "text/plain": [
       "  0%|          | 0/313 [00:00<?, ?it/s]"
      ]
     },
     "metadata": {},
     "output_type": "display_data"
    },
    {
     "name": "stdout",
     "output_type": "stream",
     "text": [
      "Train loss: 0.11251140671511428 | Train Accuracy: 0.9659870748384355 || Validation loss: 0.10910151557375987 | Validation Accuracy: 0.9661666666666666\n",
      "Epoch: 33\n"
     ]
    },
    {
     "data": {
      "application/vnd.jupyter.widget-view+json": {
       "model_id": "93068f3bbb6e4a92ba542daac554b33f",
       "version_major": 2,
       "version_minor": 0
      },
      "text/plain": [
       "  0%|          | 0/313 [00:00<?, ?it/s]"
      ]
     },
     "metadata": {},
     "output_type": "display_data"
    },
    {
     "name": "stdout",
     "output_type": "stream",
     "text": [
      "Train loss: 0.11222107166918321 | Train Accuracy: 0.9660370754634433 || Validation loss: 0.10813095653429627 | Validation Accuracy: 0.9663333333333334\n",
      "Epoch: 34\n"
     ]
    },
    {
     "data": {
      "application/vnd.jupyter.widget-view+json": {
       "model_id": "5648aafac370420aaa7534d8988fff26",
       "version_major": 2,
       "version_minor": 0
      },
      "text/plain": [
       "  0%|          | 0/313 [00:00<?, ?it/s]"
      ]
     },
     "metadata": {},
     "output_type": "display_data"
    },
    {
     "name": "stdout",
     "output_type": "stream",
     "text": [
      "Train loss: 0.11141500670831805 | Train Accuracy: 0.9664370804635058 || Validation loss: 0.10985365603119135 | Validation Accuracy: 0.968\n",
      "Epoch: 35\n"
     ]
    },
    {
     "data": {
      "application/vnd.jupyter.widget-view+json": {
       "model_id": "a0bdfd8fa02542938a2734b39ad3f600",
       "version_major": 2,
       "version_minor": 0
      },
      "text/plain": [
       "  0%|          | 0/313 [00:00<?, ?it/s]"
      ]
     },
     "metadata": {},
     "output_type": "display_data"
    },
    {
     "name": "stdout",
     "output_type": "stream",
     "text": [
      "Train loss: 0.11094851366961345 | Train Accuracy: 0.9661745771822148 || Validation loss: 0.1075832461938262 | Validation Accuracy: 0.9675\n",
      "Epoch: 36\n"
     ]
    },
    {
     "data": {
      "application/vnd.jupyter.widget-view+json": {
       "model_id": "cbe8c63f176e4e719418e7963f8038f1",
       "version_major": 2,
       "version_minor": 0
      },
      "text/plain": [
       "  0%|          | 0/313 [00:00<?, ?it/s]"
      ]
     },
     "metadata": {},
     "output_type": "display_data"
    },
    {
     "name": "stdout",
     "output_type": "stream",
     "text": [
      "Train loss: 0.11010906063377286 | Train Accuracy: 0.9664995812447655 || Validation loss: 0.10876990761607885 | Validation Accuracy: 0.9675\n",
      "Epoch: 37\n"
     ]
    },
    {
     "data": {
      "application/vnd.jupyter.widget-view+json": {
       "model_id": "52d281c6edf741af911ce768e26e3b04",
       "version_major": 2,
       "version_minor": 0
      },
      "text/plain": [
       "  0%|          | 0/313 [00:00<?, ?it/s]"
      ]
     },
     "metadata": {},
     "output_type": "display_data"
    },
    {
     "name": "stdout",
     "output_type": "stream",
     "text": [
      "Train loss: 0.10969798961957804 | Train Accuracy: 0.9673370917136465 || Validation loss: 0.1066693343843023 | Validation Accuracy: 0.9683333333333334\n",
      "Epoch: 38\n"
     ]
    },
    {
     "data": {
      "application/vnd.jupyter.widget-view+json": {
       "model_id": "7d587ab0d67b44858d5aac0c0d311676",
       "version_major": 2,
       "version_minor": 0
      },
      "text/plain": [
       "  0%|          | 0/313 [00:00<?, ?it/s]"
      ]
     },
     "metadata": {},
     "output_type": "display_data"
    },
    {
     "name": "stdout",
     "output_type": "stream",
     "text": [
      "Train loss: 0.10893044227990098 | Train Accuracy: 0.9672495906198827 || Validation loss: 0.10579160585378607 | Validation Accuracy: 0.9686666666666667\n",
      "Epoch: 39\n"
     ]
    },
    {
     "data": {
      "application/vnd.jupyter.widget-view+json": {
       "model_id": "0b178de86b4141ad8f337917059c5df7",
       "version_major": 2,
       "version_minor": 0
      },
      "text/plain": [
       "  0%|          | 0/313 [00:00<?, ?it/s]"
      ]
     },
     "metadata": {},
     "output_type": "display_data"
    },
    {
     "name": "stdout",
     "output_type": "stream",
     "text": [
      "Train loss: 0.10845724840800221 | Train Accuracy: 0.9675745946824336 || Validation loss: 0.10609306721016765 | Validation Accuracy: 0.9688333333333333\n",
      "Epoch: 40\n"
     ]
    },
    {
     "data": {
      "application/vnd.jupyter.widget-view+json": {
       "model_id": "1e346bf1b57e4b5dbae3e0e80b947592",
       "version_major": 2,
       "version_minor": 0
      },
      "text/plain": [
       "  0%|          | 0/313 [00:00<?, ?it/s]"
      ]
     },
     "metadata": {},
     "output_type": "display_data"
    },
    {
     "name": "stdout",
     "output_type": "stream",
     "text": [
      "Train loss: 0.10795094536992307 | Train Accuracy: 0.9670870885886074 || Validation loss: 0.10452011848489444 | Validation Accuracy: 0.968\n",
      "Epoch: 41\n"
     ]
    },
    {
     "data": {
      "application/vnd.jupyter.widget-view+json": {
       "model_id": "545677c1b34e4a6c9d989ee2085d9646",
       "version_major": 2,
       "version_minor": 0
      },
      "text/plain": [
       "  0%|          | 0/313 [00:00<?, ?it/s]"
      ]
     },
     "metadata": {},
     "output_type": "display_data"
    },
    {
     "name": "stdout",
     "output_type": "stream",
     "text": [
      "Train loss: 0.10743658740918477 | Train Accuracy: 0.9673995924949061 || Validation loss: 0.10512112888197105 | Validation Accuracy: 0.969\n",
      "Epoch: 42\n"
     ]
    },
    {
     "data": {
      "application/vnd.jupyter.widget-view+json": {
       "model_id": "4a245dea683446ae8808869d08c3976a",
       "version_major": 2,
       "version_minor": 0
      },
      "text/plain": [
       "  0%|          | 0/313 [00:00<?, ?it/s]"
      ]
     },
     "metadata": {},
     "output_type": "display_data"
    },
    {
     "name": "stdout",
     "output_type": "stream",
     "text": [
      "Train loss: 0.10706929645884913 | Train Accuracy: 0.9678995987449843 || Validation loss: 0.10553760981808107 | Validation Accuracy: 0.9688333333333333\n",
      "Epoch: 43\n"
     ]
    },
    {
     "data": {
      "application/vnd.jupyter.widget-view+json": {
       "model_id": "d599fd9788204853a7e0f6c83097be9f",
       "version_major": 2,
       "version_minor": 0
      },
      "text/plain": [
       "  0%|          | 0/313 [00:00<?, ?it/s]"
      ]
     },
     "metadata": {},
     "output_type": "display_data"
    },
    {
     "name": "stdout",
     "output_type": "stream",
     "text": [
      "Train loss: 0.10689377898987108 | Train Accuracy: 0.9679245990574882 || Validation loss: 0.10544345978026588 | Validation Accuracy: 0.9698333333333333\n",
      "Epoch: 44\n"
     ]
    },
    {
     "data": {
      "application/vnd.jupyter.widget-view+json": {
       "model_id": "bb02db7e5e814a2ea788163f07edd5e2",
       "version_major": 2,
       "version_minor": 0
      },
      "text/plain": [
       "  0%|          | 0/313 [00:00<?, ?it/s]"
      ]
     },
     "metadata": {},
     "output_type": "display_data"
    },
    {
     "name": "stdout",
     "output_type": "stream",
     "text": [
      "Train loss: 0.10674723818564948 | Train Accuracy: 0.967999599995 || Validation loss: 0.10478084379186232 | Validation Accuracy: 0.9693333333333334\n",
      "Epoch: 45\n"
     ]
    },
    {
     "data": {
      "application/vnd.jupyter.widget-view+json": {
       "model_id": "77d69d80b9b242349b597c1a9ac30827",
       "version_major": 2,
       "version_minor": 0
      },
      "text/plain": [
       "  0%|          | 0/313 [00:00<?, ?it/s]"
      ]
     },
     "metadata": {},
     "output_type": "display_data"
    },
    {
     "name": "stdout",
     "output_type": "stream",
     "text": [
      "Train loss: 0.10652210059971474 | Train Accuracy: 0.9681371017137714 || Validation loss: 0.10597522929310799 | Validation Accuracy: 0.9695\n",
      "Epoch: 46\n"
     ]
    },
    {
     "data": {
      "application/vnd.jupyter.widget-view+json": {
       "model_id": "c6e317e340ef41cb8307784dd04f3344",
       "version_major": 2,
       "version_minor": 0
      },
      "text/plain": [
       "  0%|          | 0/313 [00:00<?, ?it/s]"
      ]
     },
     "metadata": {},
     "output_type": "display_data"
    },
    {
     "name": "stdout",
     "output_type": "stream",
     "text": [
      "Train loss: 0.10531049601424236 | Train Accuracy: 0.9678870985887323 || Validation loss: 0.10475300314525764 | Validation Accuracy: 0.9698333333333333\n",
      "Epoch: 47\n"
     ]
    },
    {
     "data": {
      "application/vnd.jupyter.widget-view+json": {
       "model_id": "561c91c3424c40f380f75965f5bb8331",
       "version_major": 2,
       "version_minor": 0
      },
      "text/plain": [
       "  0%|          | 0/313 [00:00<?, ?it/s]"
      ]
     },
     "metadata": {},
     "output_type": "display_data"
    },
    {
     "name": "stdout",
     "output_type": "stream",
     "text": [
      "Train loss: 0.10515462939207927 | Train Accuracy: 0.9676620957761972 || Validation loss: 0.10304503903413813 | Validation Accuracy: 0.9691666666666666\n",
      "Epoch: 48\n"
     ]
    },
    {
     "data": {
      "application/vnd.jupyter.widget-view+json": {
       "model_id": "78eaa82b370944d7a2b4c7dadf5a70b7",
       "version_major": 2,
       "version_minor": 0
      },
      "text/plain": [
       "  0%|          | 0/313 [00:00<?, ?it/s]"
      ]
     },
     "metadata": {},
     "output_type": "display_data"
    },
    {
     "name": "stdout",
     "output_type": "stream",
     "text": [
      "Train loss: 0.1047396180086052 | Train Accuracy: 0.9681996024950312 || Validation loss: 0.10379739214355747 | Validation Accuracy: 0.9691666666666666\n",
      "Epoch: 49\n"
     ]
    },
    {
     "data": {
      "application/vnd.jupyter.widget-view+json": {
       "model_id": "ac45dfb9972c45c78b3c4ce5b2a425d2",
       "version_major": 2,
       "version_minor": 0
      },
      "text/plain": [
       "  0%|          | 0/313 [00:00<?, ?it/s]"
      ]
     },
     "metadata": {},
     "output_type": "display_data"
    },
    {
     "name": "stdout",
     "output_type": "stream",
     "text": [
      "Train loss: 0.10479490810070936 | Train Accuracy: 0.967449593119914 || Validation loss: 0.10191519573951761 | Validation Accuracy: 0.9688333333333333\n",
      "Epoch: 50\n"
     ]
    },
    {
     "data": {
      "application/vnd.jupyter.widget-view+json": {
       "model_id": "fae827eb78d64b2bb0f7a14a9a95fbb2",
       "version_major": 2,
       "version_minor": 0
      },
      "text/plain": [
       "  0%|          | 0/313 [00:00<?, ?it/s]"
      ]
     },
     "metadata": {},
     "output_type": "display_data"
    },
    {
     "name": "stdout",
     "output_type": "stream",
     "text": [
      "Train loss: 0.10406810355881532 | Train Accuracy: 0.9682996037450469 || Validation loss: 0.10249611843998234 | Validation Accuracy: 0.97\n"
     ]
    }
   ],
   "source": [
    "history = fit(star_classifier, criterion, optimizer, epochs, (train_dataloader, valid_dataloader))"
   ]
  },
  {
   "cell_type": "markdown",
   "id": "367401ba-3db1-456b-9112-6f359d7d2a55",
   "metadata": {},
   "source": [
    "Neural Network Results:"
   ]
  },
  {
   "cell_type": "code",
   "execution_count": 705,
   "id": "6607d331-aab6-4dad-bec4-a6f3607c8c0d",
   "metadata": {},
   "outputs": [
    {
     "data": {
      "image/png": "[encoded data removed]",
      "text/plain": [
       "<Figure size 432x288 with 1 Axes>"
      ]
     },
     "metadata": {
      "needs_background": "light"
     },
     "output_type": "display_data"
    },
    {
     "data": {
      "image/png": "[encoded data removed]",
      "text/plain": [
       "<Figure size 432x288 with 1 Axes>"
      ]
     },
     "metadata": {
      "needs_background": "light"
     },
     "output_type": "display_data"
    }
   ],
   "source": [
    "plt.plot(history[\"train_loss\"], label=\"Training Loss\")\n",
    "plt.plot(history[\"validation_loss\"], label=\"Validation Loss\")\n",
    "plt.title(\"Loss over Epochs\")\n",
    "plt.xlabel(\"Epochs\")\n",
    "plt.ylabel(\"Loss\")\n",
    "plt.legend()\n",
    "plt.xticks(range(0, epochs, 4))\n",
    "plt.show()\n",
    "\n",
    "plt.plot(history[\"train_accuracy\"], label=\"Training Accuracy\")\n",
    "plt.plot(history[\"validation_accuracy\"], label=\"Validation Accuracy\")\n",
    "plt.title(\"Accuracy over Epochs\")\n",
    "plt.xlabel(\"Epochs\")\n",
    "plt.ylabel(\"Accuracy\")\n",
    "plt.legend()\n",
    "plt.xticks(range(0, epochs, 4))\n",
    "plt.show()"
   ]
  },
  {
   "cell_type": "code",
   "execution_count": 706,
   "id": "78364be6-ee4a-4c23-a737-6c6f3ef021fd",
   "metadata": {},
   "outputs": [
    {
     "name": "stdout",
     "output_type": "stream",
     "text": [
      "Neural Network achieved a testing accuracy of 96.64% and a AUC score of 0.9889.\n"
     ]
    },
    {
     "data": {
      "image/png": "[encoded data removed]",
      "text/plain": [
       "<Figure size 432x288 with 2 Axes>"
      ]
     },
     "metadata": {
      "needs_background": "light"
     },
     "output_type": "display_data"
    }
   ],
   "source": [
    "_, test_acc = evaluate(star_classifier, criterion, test_dataloader)\n",
    "\n",
    "y_hat = star_classifier(torch.Tensor(X_test))\n",
    "y_pred = y_hat.detach().numpy()\n",
    "y_pred = y_pred/np.sum(y_pred, axis=1).reshape(y_pred.shape[0], 1)\n",
    "auc = roc_auc_score(y_test, y_pred, multi_class=\"ovr\")\n",
    "print(f\"Neural Network achieved a testing accuracy of {test_acc*100:.2f}% and a AUC score of {auc:.4f}.\")\n",
    "\n",
    "\n",
    "y_hat = torch.argmax(y_hat, axis=1)\n",
    "cm = confusion_matrix(y_test, y_hat)\n",
    "train_fnr = cm[1,0]/(cm[1,0]+cm[1,1])\n",
    "sns.heatmap(cm, \n",
    "            xticklabels=le.classes_, \n",
    "            yticklabels=le.classes_, \n",
    "            annot=True)\n",
    "plt.xlabel(\"Predicted\")\n",
    "plt.ylabel(\"True\")\n",
    "plt.title(\"Test Set Confusion Matrix\")\n",
    "plt.show()\n"
   ]
  },
  {
   "cell_type": "markdown",
   "id": "72598c03-0d8e-479a-bf60-9738c256a758",
   "metadata": {},
   "source": [
    "## Task 3"
   ]
  },
  {
   "cell_type": "markdown",
   "id": "6625849a-9930-4057-a7b7-1f0dbeaaee35",
   "metadata": {},
   "source": [
    "I started by modifying the batch size beginning at 64 and then increasing by a factor of 2 until the entire training set was used per step. When the entire training set was used it would be a batch gradient descent and with any subpart of the data per step it would be a mini-batch gradient descent. I found that batch size of 256 resulted in the best accuracy and faster convergence.\n",
    "\n",
    "Next I tried to modify the network width and depth. First I started with a two layer network. I created a network with a hidden layer of width 25, 50 and 100. 100 resulted in the best accuracy and loss. Then I increased the depth of the network and with the new hidden layer tried width 25, 50 and 100. Width of 50 resulted in the best performance. Finally I tried to add another hidden layer but this resulted in lower performance on both the training and testing set. The final network was: input layer of 5 followed by a 100 neuron hidden layer, followed by another 50 neuron hidden layer followed by a 3 neuron output layer.\n",
    "\n",
    "The next parameter I modified was the learning rate. I tried learning rates 0.001, 0.0001 and 0.00001. Learning rate of 0.001 minimized quickly at first however, once passing a certain loss threshold it stopped minimizing. For 0.00001 the model took a lot of epochs to converge. A learning rate of 0.0001 both converged quickly and achieved very good performance.\n",
    "\n",
    "I did not regularized since the loss and accuracy of the train and validation sets stayed closed meaning the model was generalizing well and therefore, no regularization was needed.\n",
    "\n",
    "I used the Adam optimizer since it has been empirically been shown to be a better optimizer then base gradient descent and other optimization algorithms."
   ]
  },
  {
   "cell_type": "markdown",
   "id": "1dbf032c-98eb-4d60-8dd0-1a0cca2b71df",
   "metadata": {},
   "source": [
    "## Task 4"
   ]
  },
  {
   "cell_type": "markdown",
   "id": "4f046117-2967-4d52-8ff4-5b842347bf42",
   "metadata": {},
   "source": [
    "### Logistic Regression Baseline"
   ]
  },
  {
   "cell_type": "code",
   "execution_count": 707,
   "id": "34cd0599-b5ac-4f2b-b497-000ebc677b68",
   "metadata": {},
   "outputs": [],
   "source": [
    "lr_star_classifier = LogisticRegression(C=1)"
   ]
  },
  {
   "cell_type": "code",
   "execution_count": 708,
   "id": "0aeacb55-65f8-4ea5-a53a-f7eef94a97fa",
   "metadata": {},
   "outputs": [
    {
     "data": {
      "text/plain": [
       "LogisticRegression(C=1)"
      ]
     },
     "execution_count": 708,
     "metadata": {},
     "output_type": "execute_result"
    }
   ],
   "source": [
    "lr_star_classifier.fit(X_train, y_train)"
   ]
  },
  {
   "cell_type": "code",
   "execution_count": 709,
   "id": "a407b400-a27f-494f-8b5c-c26732c4f9bb",
   "metadata": {},
   "outputs": [
    {
     "name": "stdout",
     "output_type": "stream",
     "text": [
      "SVM achieved a testing accuracy of 95.27% and a AUC score of 0.9846.\n"
     ]
    },
    {
     "data": {
      "image/png": "[encoded data removed]",
      "text/plain": [
       "<Figure size 432x288 with 2 Axes>"
      ]
     },
     "metadata": {
      "needs_background": "light"
     },
     "output_type": "display_data"
    }
   ],
   "source": [
    "y_hat = lr_star_classifier.predict_proba(X_test)\n",
    "y_pred = y_hat/np.sum(y_hat, axis=1).reshape(y_hat.shape[0], 1)\n",
    "auc = roc_auc_score(y_test, y_pred, multi_class=\"ovr\")\n",
    "test_acc = np.sum(np.argmax(y_hat, axis=1) == y_test)/y_test.shape[0]\n",
    "print(f\"SVM achieved a testing accuracy of {test_acc*100:.2f}% and a AUC score of {auc:.4f}.\")\n",
    "\n",
    "y_hat = np.argmax(y_hat, axis=1)\n",
    "cm = confusion_matrix(y_test, y_hat)\n",
    "train_fnr = cm[1,0]/(cm[1,0]+cm[1,1])\n",
    "sns.heatmap(cm, \n",
    "            xticklabels=le.classes_, \n",
    "            yticklabels=le.classes_, \n",
    "            annot=True)\n",
    "plt.xlabel(\"Predicted\")\n",
    "plt.ylabel(\"True\")\n",
    "plt.title(\"Test Set Confusion Matrix\")\n",
    "plt.show()"
   ]
  },
  {
   "cell_type": "markdown",
   "id": "02ee3afd-b16b-4b75-9881-66104ab2075d",
   "metadata": {},
   "source": [
    "### Model Comparison\n",
    "The neural network performed better than the logistic regression model. The neural network achieved a testing accuracy of 96.64% and an AUC score of 0.9889, while the logistic regression model got a 95.27% testing accuracy and a 0.9846 AUC score. The AUC score tells us how well the model can differentiate between different classes, and a 1 is a perfect score. Both models achieved a good AUC score; however, the neural network scored higher. I believe that the neural network's ability to tap into the nonlinear relationships between the features allowed it to achieve a better score on this test. However, it's clear from the logistic regression score that data is primarily linear, with minimal nonlinear relationships."
   ]
  },
  {
   "cell_type": "code",
   "execution_count": null,
   "id": "0bb606cd-62df-42fc-8e5d-89e1f1c66d32",
   "metadata": {},
   "outputs": [],
   "source": []
  }
 ],
 "metadata": {
  "kernelspec": {
   "display_name": "Python (csci6962)",
   "language": "python",
   "name": "csci6962"
  },
  "language_info": {
   "codemirror_mode": {
    "name": "ipython",
    "version": 3
   },
   "file_extension": ".py",
   "mimetype": "text/x-python",
   "name": "python",
   "nbconvert_exporter": "python",
   "pygments_lexer": "ipython3",
   "version": "3.8.8"
  }
 },
 "nbformat": 4,
 "nbformat_minor": 5
}
