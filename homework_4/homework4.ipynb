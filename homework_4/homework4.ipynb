{
 "cells": [
  {
   "cell_type": "markdown",
   "id": "c9e0beea-e559-441c-bcfc-1a1bbb8a79c8",
   "metadata": {},
   "source": [
    "# CSCI 6920 - Homework 4\n",
    "Name: Ohad Nir;\n",
    "Due: 10/21/2022"
   ]
  },
  {
   "cell_type": "markdown",
   "id": "5638344b-3a57-4586-b0f1-a6dc377ad463",
   "metadata": {},
   "source": [
    "## Problem Statement \n",
    "What makes a review positive or negative? Usually, it is a specific combination of words with their own meaning, said in a particular order with a positive or negative connotation. This task, also known as sentiment analysis, can be used in many different applications. One is classifying the sentiment of a review. In this notebook, I'll be using the IMDB movie review dataset to classify good and bad reviews.\n",
    "\n",
    "The dataset I used is the [IMDB Dataset of 50K Movie Reviews](https://www.kaggle.com/datasets/lakshmi25npathi/imdb-dataset-of-50k-movie-reviews) from Kaggel."
   ]
  },
  {
   "cell_type": "markdown",
   "id": "d250f4b9-71cf-4c0d-9385-b88fcb2af186",
   "metadata": {},
   "source": [
    "## Setup"
   ]
  },
  {
   "cell_type": "code",
   "execution_count": 196,
   "id": "ad3bccd8-0d5a-4748-bbaf-3a2d1f592d0b",
   "metadata": {},
   "outputs": [],
   "source": [
    "import pandas as pd\n",
    "import numpy as np\n",
    "from tqdm.notebook import tqdm\n",
    "\n",
    "import torch\n",
    "from torch import nn\n",
    "from torch.nn.utils.rnn import pack_padded_sequence\n",
    "\n",
    "from nltk.corpus import stopwords\n",
    "\n",
    "from torchtext.data import get_tokenizer\n",
    "from torchtext.vocab import build_vocab_from_iterator\n",
    "\n",
    "import seaborn as sns\n",
    "import matplotlib.pyplot as plt\n",
    "\n",
    "from sklearn.model_selection import train_test_split\n",
    "from sklearn.preprocessing import LabelEncoder\n",
    "\n",
    "from sklearn.metrics import confusion_matrix, roc_auc_score\n",
    "\n",
    "from pkg_resources import packaging\n",
    "import clip\n",
    "\n",
    "pd.options.display.max_columns = 1000\n",
    "pd.options.display.max_rows = 1000\n",
    "pd.options.mode.chained_assignment = None"
   ]
  },
  {
   "cell_type": "markdown",
   "id": "7b06bb10-dd98-4acd-842e-eb1d33ad3b06",
   "metadata": {},
   "source": [
    "## Task 1"
   ]
  },
  {
   "cell_type": "markdown",
   "id": "5e70437e-02e0-4cff-92e6-e05c38e33ffb",
   "metadata": {},
   "source": [
    "### Data Processing:"
   ]
  },
  {
   "cell_type": "markdown",
   "id": "56464481-bbcd-4692-b711-ed8d4f8894f1",
   "metadata": {},
   "source": [
    "Read data:"
   ]
  },
  {
   "cell_type": "code",
   "execution_count": 197,
   "id": "2dc5bca4-fa24-42ca-b7ee-1b439564bc8f",
   "metadata": {},
   "outputs": [],
   "source": [
    "imdb_df = pd.read_csv(\"..\\\\data\\\\IMDB_dataset.csv\")\n",
    "seed = 1"
   ]
  },
  {
   "cell_type": "code",
   "execution_count": 198,
   "id": "79593d51-ebd4-4da4-9065-1592b622ea7f",
   "metadata": {},
   "outputs": [
    {
     "data": {
      "text/html": [
       "<div>\n",
       "<style scoped>\n",
       "    .dataframe tbody tr th:only-of-type {\n",
       "        vertical-align: middle;\n",
       "    }\n",
       "\n",
       "    .dataframe tbody tr th {\n",
       "        vertical-align: top;\n",
       "    }\n",
       "\n",
       "    .dataframe thead th {\n",
       "        text-align: right;\n",
       "    }\n",
       "</style>\n",
       "<table border=\"1\" class=\"dataframe\">\n",
       "  <thead>\n",
       "    <tr style=\"text-align: right;\">\n",
       "      <th></th>\n",
       "      <th>review</th>\n",
       "      <th>sentiment</th>\n",
       "    </tr>\n",
       "  </thead>\n",
       "  <tbody>\n",
       "    <tr>\n",
       "      <th>0</th>\n",
       "      <td>One of the other reviewers has mentioned that ...</td>\n",
       "      <td>positive</td>\n",
       "    </tr>\n",
       "    <tr>\n",
       "      <th>1</th>\n",
       "      <td>A wonderful little production. &lt;br /&gt;&lt;br /&gt;The...</td>\n",
       "      <td>positive</td>\n",
       "    </tr>\n",
       "    <tr>\n",
       "      <th>2</th>\n",
       "      <td>I thought this was a wonderful way to spend ti...</td>\n",
       "      <td>positive</td>\n",
       "    </tr>\n",
       "    <tr>\n",
       "      <th>3</th>\n",
       "      <td>Basically there's a family where a little boy ...</td>\n",
       "      <td>negative</td>\n",
       "    </tr>\n",
       "    <tr>\n",
       "      <th>4</th>\n",
       "      <td>Petter Mattei's \"Love in the Time of Money\" is...</td>\n",
       "      <td>positive</td>\n",
       "    </tr>\n",
       "  </tbody>\n",
       "</table>\n",
       "</div>"
      ],
      "text/plain": [
       "                                              review sentiment\n",
       "0  One of the other reviewers has mentioned that ...  positive\n",
       "1  A wonderful little production. <br /><br />The...  positive\n",
       "2  I thought this was a wonderful way to spend ti...  positive\n",
       "3  Basically there's a family where a little boy ...  negative\n",
       "4  Petter Mattei's \"Love in the Time of Money\" is...  positive"
      ]
     },
     "execution_count": 198,
     "metadata": {},
     "output_type": "execute_result"
    }
   ],
   "source": [
    "imdb_df.head(5)"
   ]
  },
  {
   "cell_type": "markdown",
   "id": "5759928f-d869-4013-b668-b3be68550412",
   "metadata": {},
   "source": [
    "Lets looks at some sample reviews."
   ]
  },
  {
   "cell_type": "code",
   "execution_count": 199,
   "id": "e8aa4757-e7cf-467a-b15a-a8ea1f011c08",
   "metadata": {},
   "outputs": [
    {
     "name": "stdout",
     "output_type": "stream",
     "text": [
      "One of the other reviewers has mentioned that after watching just 1 Oz episode you'll be hooked. They are right, as this is exactly what happened with me.<br /><br />The first thing that struck me about Oz was its brutality and unflinching scenes of violence, which set in right from the word GO. Trust me, this is not a show for the faint hearted or timid. This show pulls no punches with regards to drugs, sex or violence. Its is hardcore, in the classic use of the word.<br /><br />It is called OZ as that is the nickname given to the Oswald Maximum Security State Penitentary. It focuses mainly on Emerald City, an experimental section of the prison where all the cells have glass fronts and face inwards, so privacy is not high on the agenda. Em City is home to many..Aryans, Muslims, gangstas, Latinos, Christians, Italians, Irish and more....so scuffles, death stares, dodgy dealings and shady agreements are never far away.<br /><br />I would say the main appeal of the show is due to the fact that it goes where other shows wouldn't dare. Forget pretty pictures painted for mainstream audiences, forget charm, forget romance...OZ doesn't mess around. The first episode I ever saw struck me as so nasty it was surreal, I couldn't say I was ready for it, but as I watched more, I developed a taste for Oz, and got accustomed to the high levels of graphic violence. Not just violence, but injustice (crooked guards who'll be sold out for a nickel, inmates who'll kill on order and get away with it, well mannered, middle class inmates being turned into prison bitches due to their lack of street skills or prison experience) Watching Oz, you may become comfortable with what is uncomfortable viewing....thats if you can get in touch with your darker side. \n",
      "\n",
      "A wonderful little production. <br /><br />The filming technique is very unassuming- very old-time-BBC fashion and gives a comforting, and sometimes discomforting, sense of realism to the entire piece. <br /><br />The actors are extremely well chosen- Michael Sheen not only \"has got all the polari\" but he has all the voices down pat too! You can truly see the seamless editing guided by the references to Williams' diary entries, not only is it well worth the watching but it is a terrificly written and performed piece. A masterful production about one of the great master's of comedy and his life. <br /><br />The realism really comes home with the little things: the fantasy of the guard which, rather than use the traditional 'dream' techniques remains solid then disappears. It plays on our knowledge and our senses, particularly with the scenes concerning Orton and Halliwell and the sets (particularly of their flat with Halliwell's murals decorating every surface) are terribly well done. \n",
      "\n",
      "I thought this was a wonderful way to spend time on a too hot summer weekend, sitting in the air conditioned theater and watching a light-hearted comedy. The plot is simplistic, but the dialogue is witty and the characters are likable (even the well bread suspected serial killer). While some may be disappointed when they realize this is not Match Point 2: Risk Addiction, I thought it was proof that Woody Allen is still fully in control of the style many of us have grown to love.<br /><br />This was the most I'd laughed at one of Woody's comedies in years (dare I say a decade?). While I've never been impressed with Scarlet Johanson, in this she managed to tone down her \"sexy\" image and jumped right into a average, but spirited young woman.<br /><br />This may not be the crown jewel of his career, but it was wittier than \"Devil Wears Prada\" and more interesting than \"Superman\" a great comedy to go see with friends. \n",
      "\n"
     ]
    }
   ],
   "source": [
    "for i in range(3):\n",
    "    print(imdb_df[\"review\"][i], \"\\n\")"
   ]
  },
  {
   "cell_type": "markdown",
   "id": "839fef05-cec0-443f-99f9-bcd3d5db1e19",
   "metadata": {},
   "source": [
    "Encode dataset labels."
   ]
  },
  {
   "cell_type": "code",
   "execution_count": 200,
   "id": "3441f168-ff8b-4e26-ad38-f611759c1e89",
   "metadata": {},
   "outputs": [],
   "source": [
    "le = LabelEncoder()\n",
    "le.fit(imdb_df[\"sentiment\"].unique())\n",
    "imdb_df[\"sentiment\"] = le.transform(imdb_df[\"sentiment\"])"
   ]
  },
  {
   "cell_type": "markdown",
   "id": "b1be04d0-0d38-4318-9e6b-8506fb27bff5",
   "metadata": {},
   "source": [
    "Data clearning."
   ]
  },
  {
   "cell_type": "code",
   "execution_count": 201,
   "id": "664ff23e-ed64-437e-bb35-1e340e36c708",
   "metadata": {},
   "outputs": [],
   "source": [
    "stop_w = set(stopwords.words('english'))\n",
    "\n",
    "# make all characters lowercase.\n",
    "imdb_df[\"review\"] = imdb_df[\"review\"].str.lower()\n",
    "# remove html tags.\n",
    "imdb_df[\"review\"] = imdb_df[\"review\"].str.replace(r\"<[^<>]*>\", \"\", regex=True)\n",
    "# remove all non alphanumeric except spaces.\n",
    "imdb_df[\"review\"] = imdb_df[\"review\"].str.replace('[^A-z0-9 ]', '', regex=True) \n",
    "# remove stopwords.\n",
    "imdb_df[\"review\"] = imdb_df[\"review\"].apply(lambda x: ' '.join([word for word in x.split() if word not in stop_w]))"
   ]
  },
  {
   "cell_type": "markdown",
   "id": "7be84b2c-8313-4528-b1ac-93e538a01b02",
   "metadata": {},
   "source": [
    "Lets looks the clearned sample reviews."
   ]
  },
  {
   "cell_type": "code",
   "execution_count": 202,
   "id": "a4903995-7341-4324-b338-bd39ed3cc4c1",
   "metadata": {},
   "outputs": [
    {
     "name": "stdout",
     "output_type": "stream",
     "text": [
      "one reviewers mentioned watching 1 oz episode youll hooked right exactly happened methe first thing struck oz brutality unflinching scenes violence set right word go trust show faint hearted timid show pulls punches regards drugs sex violence hardcore classic use wordit called oz nickname given oswald maximum security state penitentary focuses mainly emerald city experimental section prison cells glass fronts face inwards privacy high agenda em city home manyaryans muslims gangstas latinos christians italians irish moreso scuffles death stares dodgy dealings shady agreements never far awayi would say main appeal show due fact goes shows wouldnt dare forget pretty pictures painted mainstream audiences forget charm forget romanceoz doesnt mess around first episode ever saw struck nasty surreal couldnt say ready watched developed taste oz got accustomed high levels graphic violence violence injustice crooked guards wholl sold nickel inmates wholl kill order get away well mannered middle class inmates turned prison bitches due lack street skills prison experience watching oz may become comfortable uncomfortable viewingthats get touch darker side \n",
      "\n",
      "wonderful little production filming technique unassuming oldtimebbc fashion gives comforting sometimes discomforting sense realism entire piece actors extremely well chosen michael sheen got polari voices pat truly see seamless editing guided references williams diary entries well worth watching terrificly written performed piece masterful production one great masters comedy life realism really comes home little things fantasy guard rather use traditional dream techniques remains solid disappears plays knowledge senses particularly scenes concerning orton halliwell sets particularly flat halliwells murals decorating every surface terribly well done \n",
      "\n",
      "thought wonderful way spend time hot summer weekend sitting air conditioned theater watching lighthearted comedy plot simplistic dialogue witty characters likable even well bread suspected serial killer may disappointed realize match point 2 risk addiction thought proof woody allen still fully control style many us grown lovethis id laughed one woodys comedies years dare say decade ive never impressed scarlet johanson managed tone sexy image jumped right average spirited young womanthis may crown jewel career wittier devil wears prada interesting superman great comedy go see friends \n",
      "\n"
     ]
    }
   ],
   "source": [
    "for i in range(3):\n",
    "    print(imdb_df[\"review\"][i], \"\\n\")"
   ]
  },
  {
   "cell_type": "markdown",
   "id": "6f5225f5-ffe6-42b5-99e5-76c3cbb46004",
   "metadata": {},
   "source": [
    "Class frequency:"
   ]
  },
  {
   "cell_type": "code",
   "execution_count": 203,
   "id": "bd02e6a2-3daa-4d90-83a0-e5fb278ea3c8",
   "metadata": {},
   "outputs": [
    {
     "data": {
      "image/png": "[encoded data removed]",
      "text/plain": [
       "<Figure size 432x288 with 1 Axes>"
      ]
     },
     "metadata": {
      "needs_background": "light"
     },
     "output_type": "display_data"
    }
   ],
   "source": [
    "sns.barplot(x=['negative','positive'], y=imdb_df[\"sentiment\"].value_counts().values)\n",
    "plt.ylabel(\"Occurrences\")\n",
    "plt.title(\"Full Set Class Frequency\")\n",
    "plt.show()"
   ]
  },
  {
   "cell_type": "markdown",
   "id": "995b0229-2341-4ae3-b3f7-4e3d87b315ca",
   "metadata": {},
   "source": [
    "The classes are balanced. Next split data on train/validation/test with stratification."
   ]
  },
  {
   "cell_type": "code",
   "execution_count": 204,
   "id": "a6506667-3a51-4f4c-be13-2b3c327f0fe7",
   "metadata": {},
   "outputs": [],
   "source": [
    "train_df, test_df = train_test_split(imdb_df, train_size=0.70, shuffle=True, stratify=imdb_df[\"sentiment\"], random_state=seed)\n",
    "test_df, valid_df = train_test_split(test_df, train_size=0.65, shuffle=True, stratify=test_df[\"sentiment\"], random_state=seed)"
   ]
  },
  {
   "cell_type": "code",
   "execution_count": 205,
   "id": "7d55bcd1-0643-480f-bab0-e6ff9268d32b",
   "metadata": {},
   "outputs": [
    {
     "data": {
      "image/png": "[encoded data removed]",
      "text/plain": [
       "<Figure size 432x288 with 1 Axes>"
      ]
     },
     "metadata": {
      "needs_background": "light"
     },
     "output_type": "display_data"
    },
    {
     "data": {
      "image/png": "[encoded data removed]",
      "text/plain": [
       "<Figure size 432x288 with 1 Axes>"
      ]
     },
     "metadata": {
      "needs_background": "light"
     },
     "output_type": "display_data"
    },
    {
     "data": {
      "image/png": "[encoded data removed]",
      "text/plain": [
       "<Figure size 432x288 with 1 Axes>"
      ]
     },
     "metadata": {
      "needs_background": "light"
     },
     "output_type": "display_data"
    }
   ],
   "source": [
    "sns.barplot(x=['negative','positive'], y=train_df[\"sentiment\"].value_counts().values)\n",
    "plt.ylabel(\"Occurrences\")\n",
    "plt.title(\"Training Set Class Frequency\")\n",
    "plt.show()\n",
    "\n",
    "sns.barplot(x=['negative','positive'], y=valid_df[\"sentiment\"].value_counts().values)\n",
    "plt.ylabel(\"Occurrences\")\n",
    "plt.title(\"Validation Set Class Frequency\")\n",
    "plt.show()\n",
    "\n",
    "sns.barplot(x=['negative','positive'], y=test_df[\"sentiment\"].value_counts().values)\n",
    "plt.ylabel(\"Occurrences\")\n",
    "plt.title(\"Testing Set Class Frequency\")\n",
    "plt.show()"
   ]
  },
  {
   "cell_type": "markdown",
   "id": "0515b474-ab25-46ad-990e-41df395cc649",
   "metadata": {},
   "source": [
    "Tokenize and create vocabulary on the training set."
   ]
  },
  {
   "cell_type": "code",
   "execution_count": 206,
   "id": "89ce2d11-e1be-4e91-a4de-891f7372dd33",
   "metadata": {},
   "outputs": [],
   "source": [
    "def string_to_token(X, tokenizer):\n",
    "    for x in X:\n",
    "        yield tokenizer(x)\n",
    "\n",
    "tokenizer = get_tokenizer('basic_english')\n",
    "vocab = build_vocab_from_iterator(string_to_token(train_df[\"review\"], tokenizer), min_freq=3, specials=['<unk>', '<pad>'])\n",
    "vocab.set_default_index(vocab[\"<unk>\"])\n",
    "padding_idx = vocab[\"<pad>\"]\n",
    "\n",
    "text_pipeline = lambda x: vocab(tokenizer(x))"
   ]
  },
  {
   "cell_type": "markdown",
   "id": "7f55f4ab-b7e8-4423-8f44-6844c4853fe4",
   "metadata": {},
   "source": [
    "Vectorize the reviews."
   ]
  },
  {
   "cell_type": "code",
   "execution_count": 207,
   "id": "28c8fd7f-c56e-4aef-8499-6a1d12ff13e0",
   "metadata": {},
   "outputs": [],
   "source": [
    "train_df[\"review_vec\"] = train_df[\"review\"].apply(lambda r: text_pipeline(r))\n",
    "train_df[\"rv_length\"] = train_df[\"review_vec\"].apply(lambda r: len(r))\n",
    "\n",
    "valid_df[\"review_vec\"] = valid_df[\"review\"].apply(lambda r: text_pipeline(r))\n",
    "valid_df[\"rv_length\"] = valid_df[\"review_vec\"].apply(lambda r: len(r))\n",
    "\n",
    "test_df[\"review_vec\"] = test_df[\"review\"].apply(lambda r: text_pipeline(r))\n",
    "test_df[\"rv_length\"] = test_df[\"review_vec\"].apply(lambda r: len(r))"
   ]
  },
  {
   "cell_type": "markdown",
   "id": "a33b435c-94a4-47ac-bb06-dda61711b080",
   "metadata": {},
   "source": [
    "To decide on the size of the sequence lets evaluate the training set sequence length."
   ]
  },
  {
   "cell_type": "code",
   "execution_count": 208,
   "id": "e841dca1-509b-476f-93f2-c640f0b21a73",
   "metadata": {},
   "outputs": [
    {
     "data": {
      "image/png": "[encoded data removed]",
      "text/plain": [
       "<Figure size 432x288 with 1 Axes>"
      ]
     },
     "metadata": {
      "needs_background": "light"
     },
     "output_type": "display_data"
    }
   ],
   "source": [
    "sns.histplot(train_df[\"rv_length\"])\n",
    "plt.xlabel(\"Review Length\")\n",
    "plt.title(\"Train Set Review Length\")\n",
    "plt.show()"
   ]
  },
  {
   "cell_type": "markdown",
   "id": "85d1104f-b419-4485-b57c-17891629d061",
   "metadata": {},
   "source": [
    "Most of the reviews are under 600 tokens in length."
   ]
  },
  {
   "cell_type": "code",
   "execution_count": 209,
   "id": "1b035cbe-0a43-42d8-8302-cf793a96f085",
   "metadata": {},
   "outputs": [],
   "source": [
    "max_length=600"
   ]
  },
  {
   "cell_type": "markdown",
   "id": "a4813631-bee9-451e-92e4-3f17c41761a3",
   "metadata": {},
   "source": [
    "We will pre-pad reviews that have less than 600 tokens with the special padding token assgined when vocabulary was created. If sequence is longer than 600 tokens then we will truncate the review."
   ]
  },
  {
   "cell_type": "code",
   "execution_count": 210,
   "id": "6ce710f3-6810-4f33-b958-94011b8e3c44",
   "metadata": {},
   "outputs": [],
   "source": [
    "# Padding\n",
    "train_df[\"review_vec\"] = train_df[\"review_vec\"].apply(lambda r: [padding_idx for _ in range(max_length-len(r))] + r)\n",
    "valid_df[\"review_vec\"] = valid_df[\"review_vec\"].apply(lambda r: [padding_idx for _ in range(max_length-len(r))] + r)\n",
    "test_df[\"review_vec\"] = test_df[\"review_vec\"].apply(lambda r: [padding_idx for _ in range(max_length-len(r))] + r)\n",
    "\n",
    "# Truncating\n",
    "train_df[\"review_vec\"] = train_df[\"review_vec\"].apply(lambda r: r[:max_length])\n",
    "valid_df[\"review_vec\"] = valid_df[\"review_vec\"].apply(lambda r: r[:max_length])\n",
    "test_df[\"review_vec\"] = test_df[\"review_vec\"].apply(lambda r: r[:max_length])"
   ]
  },
  {
   "cell_type": "code",
   "execution_count": 211,
   "id": "6b93f296-995a-456b-9cef-ea025bb38975",
   "metadata": {},
   "outputs": [],
   "source": [
    "X_train, y_train = np.array([l for l in train_df[\"review_vec\"]]), np.array(train_df[\"sentiment\"])\n",
    "X_valid, y_valid = np.array([l for l in valid_df[\"review_vec\"]]), np.array(valid_df[\"sentiment\"])\n",
    "X_test, y_test = np.array([l for l in train_df[\"review_vec\"]]), np.array(train_df[\"sentiment\"])"
   ]
  },
  {
   "cell_type": "code",
   "execution_count": 243,
   "id": "498efbfb-d190-419e-8825-517fe4146bba",
   "metadata": {},
   "outputs": [],
   "source": [
    "class SequentialModel(nn.Module):\n",
    "    def __init__(self, num_embeddings, embedding_dim, hidden_size, num_layers, output_size, padding_idx, drop_rate=0, bidirectional=False, mode=\"RNN\"):\n",
    "        super(SequentialModel, self).__init__()\n",
    "                        \n",
    "        if mode == \"RNN\":\n",
    "            self.recurrent = nn.RNN(embedding_dim, hidden_size, num_layers, bidirectional=bidirectional)\n",
    "        elif mode == \"LSTM\":\n",
    "            self.recurrent = nn.LSTM(embedding_dim, hidden_size, num_layers, bidirectional=bidirectional)\n",
    "        elif mode == \"GRU\":\n",
    "            self.recurrent = nn.GRU(embedding_dim, hidden_size, num_layers, bidirectional=bidirectional)\n",
    "        else:\n",
    "            raise ValueException(f\"Mode must be either 'RNN', 'LSTM', or 'GRU' but was {mode}.\")\n",
    "            \n",
    "        self.embedding = nn.EmbeddingBag(num_embeddings, embedding_dim, padding_idx=padding_idx)\n",
    "        self.dropout = nn.Dropout(drop_rate)\n",
    "        self.fc = nn.Linear(hidden_size, output_size)\n",
    "        self.activ = nn.Sigmoid()\n",
    "        \n",
    "    def forward(self, X):\n",
    "        embedded = self.embedding(X)\n",
    "        o_recurrent, hidden = self.recurrent(embedded)\n",
    "        o_dropout = self.dropout(o_recurrent)\n",
    "        output = self.activ(self.fc(o_dropout))\n",
    "        \n",
    "        return output.flatten()\n",
    "    \n",
    "    def init_hidden(self):\n",
    "        return torch.zeros(1, self.hidden_size)\n",
    "    \n",
    "\n",
    "def fit(model, criterion, optimizer, epochs, data, progress=True):\n",
    "    train_generator, valid_generator = data\n",
    "    \n",
    "    history = {\n",
    "                \"train_loss\": [],\n",
    "                \"validation_loss\": [],\n",
    "                \"train_accuracy\": [],\n",
    "                \"validation_accuracy\": []\n",
    "    }\n",
    "    \n",
    "    for e in range(epochs):\n",
    "        model.train()\n",
    "        \n",
    "        if progress:\n",
    "            print(\"Epoch:\", e+1)\n",
    "            train_loader = tqdm(train_generator)\n",
    "            train_loader.set_description(desc=f\"Training loss: {np.NAN}\")\n",
    "        else:\n",
    "            train_loader = train_generator\n",
    "            \n",
    "        loss = 0\n",
    "        for i, (X, y) in enumerate(train_loader):\n",
    "\n",
    "            y_hat = model(X)\n",
    "            batch_loss = criterion(y_hat.float(), y.float())\n",
    "            loss += batch_loss.item()\n",
    "        \n",
    "            optimizer.zero_grad()\n",
    "            batch_loss.backward()\n",
    "            optimizer.step()\n",
    "            \n",
    "            if progress:\n",
    "                train_loader.set_description(desc=f\"Training loss: {loss/(i+1)}\")\n",
    "        \n",
    "        train_eval = evaluate(model, criterion, train_generator)\n",
    "        valid_eval = evaluate(model, criterion, valid_generator)\n",
    "        \n",
    "        history[\"train_loss\"].append(train_eval[0])\n",
    "        history[\"validation_loss\"].append(valid_eval[0])\n",
    "        history[\"train_accuracy\"].append(train_eval[1])\n",
    "        history[\"validation_accuracy\"].append(valid_eval[1])\n",
    "        \n",
    "        if progress:\n",
    "            print(f\"Train loss: {train_eval[0]} | Train Accuracy: {train_eval[1]} || Validation loss: {valid_eval[0]} | Validation Accuracy: {valid_eval[1]}\")\n",
    "            \n",
    "    return history\n",
    "\n",
    "def evaluate(model, criterion, data_loader):\n",
    "    model.eval()\n",
    "    \n",
    "    loss = 0\n",
    "    acc = 0\n",
    "    \n",
    "    for X, y in data_loader:\n",
    "        y_hat = model(X)\n",
    "        loss += float(criterion(y_hat.float(), y.float()))\n",
    "        y_hat = (y_hat > 0.5).int()\n",
    "        \n",
    "        acc += float(torch.sum(y == y_hat))\n",
    "    \n",
    "    loss /= len(data_loader)\n",
    "    acc /= len(data_loader.dataset)\n",
    "\n",
    "    return (loss, acc)\n",
    "    \n",
    "def toDataloader(X, y, batch_size, shuffle, collate_fn=None):\n",
    "    X_T = torch.Tensor(X).to(torch.int64)\n",
    "    y_T = torch.Tensor(y).type(torch.int64)\n",
    "    \n",
    "    dataset = torch.utils.data.TensorDataset(X_T, y_T)\n",
    "    \n",
    "    return torch.utils.data.DataLoader(dataset, batch_size, shuffle, collate_fn=collate_fn)\n",
    "\n",
    "def plot_train_hist(history, epochs):\n",
    "    plt.plot(history[\"train_loss\"], label=\"Training Loss\")\n",
    "    plt.plot(history[\"validation_loss\"], label=\"Validation Loss\")\n",
    "    plt.title(\"Loss over Epochs\")\n",
    "    plt.xlabel(\"Epochs\")\n",
    "    plt.ylabel(\"Loss\")\n",
    "    plt.legend()\n",
    "    plt.xticks(range(0, epochs, 4))\n",
    "    plt.show()\n",
    "\n",
    "    plt.plot(history[\"train_accuracy\"], label=\"Training Accuracy\")\n",
    "    plt.plot(history[\"validation_accuracy\"], label=\"Validation Accuracy\")\n",
    "    plt.title(\"Accuracy over Epochs\")\n",
    "    plt.xlabel(\"Epochs\")\n",
    "    plt.ylabel(\"Accuracy\")\n",
    "    plt.legend()\n",
    "    plt.xticks(range(0, epochs, 4))\n",
    "    plt.show()\n",
    "    \n",
    "def predict(model, X):\n",
    "    model.eval()\n",
    "    y_hat = model(torch.Tensor(X).to(torch.int64))\n",
    "    y_pred = (y_hat.detach().numpy() > 0.5)\n",
    "    return y_pred\n",
    "\n",
    "def auc(model, y_true, y_pred):\n",
    "    return roc_auc_score(y_true, y_pred, multi_class=\"ovr\")\n",
    "    \n",
    "def accuracy(model, criterion, dataloader, y_true, y_pred, dset):\n",
    "    _, acc = evaluate(model, criterion, dataloader)\n",
    "    \n",
    "    cm = confusion_matrix(y_true, y_pred)\n",
    "    train_fnr = cm[1,0]/(cm[1,0]+cm[1,1])\n",
    "    sns.heatmap(cm, \n",
    "                xticklabels=le.classes_, \n",
    "                yticklabels=le.classes_, \n",
    "                annot=True)\n",
    "    plt.xlabel(\"Predicted\")\n",
    "    plt.ylabel(\"True\")\n",
    "    plt.title(f\"{dset} Set Confusion Matrix\")\n",
    "    plt.show()\n",
    "    \n",
    "    return acc\n"
   ]
  },
  {
   "cell_type": "markdown",
   "id": "3b6b4bb7-67af-4e52-a822-b541217ccf53",
   "metadata": {},
   "source": [
    "Model hyper perameters:"
   ]
  },
  {
   "cell_type": "code",
   "execution_count": 213,
   "id": "7a1467fd-9ced-4fc0-a105-f8bca1f717c0",
   "metadata": {},
   "outputs": [],
   "source": [
    "batch_size = 256\n",
    "epochs = 5\n",
    "learning_rate = 0.001\n",
    "regularization = 0\n",
    "\n",
    "vocab_size = len(vocab)\n",
    "embedding_dim = 300\n",
    "hidden_size = 10\n",
    "num_layers = 1\n",
    "output_size = 1\n",
    "drop_rate = 0.5"
   ]
  },
  {
   "cell_type": "code",
   "execution_count": 214,
   "id": "ab819988-98ba-45e4-8b39-ae80cdd50f07",
   "metadata": {},
   "outputs": [],
   "source": [
    "train_dataloader = toDataloader(X_train, y_train, batch_size, True)\n",
    "valid_dataloader = toDataloader(X_valid, y_valid, batch_size, True)\n",
    "test_dataloader = toDataloader(X_test, y_test, batch_size, False)"
   ]
  },
  {
   "cell_type": "markdown",
   "id": "a6d404ca-50b4-4ef4-9774-6917fa29d948",
   "metadata": {},
   "source": [
    "### RNN Model:"
   ]
  },
  {
   "cell_type": "code",
   "execution_count": 194,
   "id": "b9f56fc6-9840-4962-a794-11ccb8f120d0",
   "metadata": {},
   "outputs": [
    {
     "name": "stdout",
     "output_type": "stream",
     "text": [
      "Epoch: 1\n"
     ]
    },
    {
     "data": {
      "application/vnd.jupyter.widget-view+json": {
       "model_id": "38f172a60f99482e857a92bfdc7a1218",
       "version_major": 2,
       "version_minor": 0
      },
      "text/plain": [
       "  0%|          | 0/137 [00:00<?, ?it/s]"
      ]
     },
     "metadata": {},
     "output_type": "display_data"
    },
    {
     "name": "stdout",
     "output_type": "stream",
     "text": [
      "Train loss: 0.5442232855045013 | Train Accuracy: 0.7809714285714285 || Validation loss: 0.5518337403024945 | Validation Accuracy: 0.7742857142857142\n",
      "Epoch: 2\n"
     ]
    },
    {
     "data": {
      "application/vnd.jupyter.widget-view+json": {
       "model_id": "539cdcf93beb47eaa075c916223bd223",
       "version_major": 2,
       "version_minor": 0
      },
      "text/plain": [
       "  0%|          | 0/137 [00:00<?, ?it/s]"
      ]
     },
     "metadata": {},
     "output_type": "display_data"
    },
    {
     "name": "stdout",
     "output_type": "stream",
     "text": [
      "Train loss: 0.3305834035803802 | Train Accuracy: 0.8750285714285714 || Validation loss: 0.35929111213911147 | Validation Accuracy: 0.8558095238095238\n",
      "Epoch: 3\n"
     ]
    },
    {
     "data": {
      "application/vnd.jupyter.widget-view+json": {
       "model_id": "83cc375bc7784013ae9f289a238b13f3",
       "version_major": 2,
       "version_minor": 0
      },
      "text/plain": [
       "  0%|          | 0/137 [00:00<?, ?it/s]"
      ]
     },
     "metadata": {},
     "output_type": "display_data"
    },
    {
     "name": "stdout",
     "output_type": "stream",
     "text": [
      "Train loss: 0.23744183648241698 | Train Accuracy: 0.9138285714285714 || Validation loss: 0.2919567269938333 | Validation Accuracy: 0.8813333333333333\n",
      "Epoch: 4\n"
     ]
    },
    {
     "data": {
      "application/vnd.jupyter.widget-view+json": {
       "model_id": "d9da92a4189b4c3188bb49a26d633c05",
       "version_major": 2,
       "version_minor": 0
      },
      "text/plain": [
       "  0%|          | 0/137 [00:00<?, ?it/s]"
      ]
     },
     "metadata": {},
     "output_type": "display_data"
    },
    {
     "name": "stdout",
     "output_type": "stream",
     "text": [
      "Train loss: 0.1820596335795674 | Train Accuracy: 0.9381714285714285 || Validation loss: 0.26874440837474095 | Validation Accuracy: 0.896\n",
      "Epoch: 5\n"
     ]
    },
    {
     "data": {
      "application/vnd.jupyter.widget-view+json": {
       "model_id": "114d049169d54184b3872ed89b2d0689",
       "version_major": 2,
       "version_minor": 0
      },
      "text/plain": [
       "  0%|          | 0/137 [00:00<?, ?it/s]"
      ]
     },
     "metadata": {},
     "output_type": "display_data"
    },
    {
     "name": "stdout",
     "output_type": "stream",
     "text": [
      "Train loss: 0.14329109346344523 | Train Accuracy: 0.9557714285714286 || Validation loss: 0.26269496977329254 | Validation Accuracy: 0.8971428571428571\n"
     ]
    }
   ],
   "source": [
    "sentiment_classifier_rnn = SequentialModel(vocab_size,\n",
    "                                  embedding_dim, \n",
    "                                  hidden_size, \n",
    "                                  num_layers, \n",
    "                                  output_size, \n",
    "                                  padding_idx, \n",
    "                                  drop_rate=drop_rate, \n",
    "                                  bidirectional=False, \n",
    "                                  mode=\"RNN\")\n",
    "criterion = nn.BCELoss()\n",
    "optimizer = torch.optim.Adam(sentiment_classifier_rnn.parameters(), lr=learning_rate, weight_decay=regularization)\n",
    "\n",
    "history = fit(sentiment_classifier_rnn, criterion, optimizer, epochs, (train_dataloader, valid_dataloader))"
   ]
  },
  {
   "cell_type": "code",
   "execution_count": 253,
   "id": "cbc5beb0-c62d-4e73-9b0d-026bd3c19ea2",
   "metadata": {},
   "outputs": [
    {
     "data": {
      "image/png": "[encoded data removed]",
      "text/plain": [
       "<Figure size 432x288 with 1 Axes>"
      ]
     },
     "metadata": {
      "needs_background": "light"
     },
     "output_type": "display_data"
    },
    {
     "data": {
      "image/png": "[encoded data removed]",
      "text/plain": [
       "<Figure size 432x288 with 1 Axes>"
      ]
     },
     "metadata": {
      "needs_background": "light"
     },
     "output_type": "display_data"
    },
    {
     "data": {
      "image/png": "[encoded data removed]",
      "text/plain": [
       "<Figure size 432x288 with 2 Axes>"
      ]
     },
     "metadata": {
      "needs_background": "light"
     },
     "output_type": "display_data"
    },
    {
     "data": {
      "image/png": "[encoded data removed]",
      "text/plain": [
       "<Figure size 432x288 with 2 Axes>"
      ]
     },
     "metadata": {
      "needs_background": "light"
     },
     "output_type": "display_data"
    },
    {
     "name": "stdout",
     "output_type": "stream",
     "text": [
      "RNN model achived a AUC score of 0.8971 and 0.9558 on the validation and test data and a accuracy of 0.8971 and 0.9558 on the validation and test data.\n"
     ]
    }
   ],
   "source": [
    "plot_train_hist(history, epochs)\n",
    "\n",
    "y_pred = predict(sentiment_classifier_rnn, X_valid)\n",
    "rnn_valid_auc = auc(sentiment_classifier_rnn, y_valid, y_pred)\n",
    "rnn_valid_acc = accuracy(sentiment_classifier_rnn, criterion, valid_dataloader, y_valid, y_pred, dset=\"Validation\")\n",
    "\n",
    "y_pred = predict(sentiment_classifier_rnn, X_test)\n",
    "rnn_test_auc = auc(sentiment_classifier_rnn, y_test, y_pred)\n",
    "rnn_test_acc = accuracy(sentiment_classifier_rnn, criterion, test_dataloader, y_test, y_pred, dset=\"Test\")\n",
    "\n",
    "print(f\"RNN model achived a AUC score of {rnn_valid_auc:.4f} and {rnn_test_auc:.4f} on the validation and test data and a accuracy of {rnn_valid_acc:.4f} and {rnn_test_acc:.4f} on the validation and test data.\")"
   ]
  },
  {
   "cell_type": "markdown",
   "id": "d4efc987-5edb-4716-81db-581b68f4edb0",
   "metadata": {},
   "source": [
    "### LSTM Model:"
   ]
  },
  {
   "cell_type": "code",
   "execution_count": 246,
   "id": "c92bfccb-78f8-43a8-a348-07f73eb109e4",
   "metadata": {},
   "outputs": [
    {
     "name": "stdout",
     "output_type": "stream",
     "text": [
      "Epoch: 1\n"
     ]
    },
    {
     "data": {
      "application/vnd.jupyter.widget-view+json": {
       "model_id": "7fe547ae05ea46cea213506a4f35a07a",
       "version_major": 2,
       "version_minor": 0
      },
      "text/plain": [
       "  0%|          | 0/137 [00:00<?, ?it/s]"
      ]
     },
     "metadata": {},
     "output_type": "display_data"
    },
    {
     "name": "stdout",
     "output_type": "stream",
     "text": [
      "Train loss: 0.5619614485406528 | Train Accuracy: 0.8075428571428571 || Validation loss: 0.5668533132189796 | Validation Accuracy: 0.7973333333333333\n",
      "Epoch: 2\n"
     ]
    },
    {
     "data": {
      "application/vnd.jupyter.widget-view+json": {
       "model_id": "738ad1b645774ed68af979cf42880bac",
       "version_major": 2,
       "version_minor": 0
      },
      "text/plain": [
       "  0%|          | 0/137 [00:00<?, ?it/s]"
      ]
     },
     "metadata": {},
     "output_type": "display_data"
    },
    {
     "name": "stdout",
     "output_type": "stream",
     "text": [
      "Train loss: 0.31195802149111335 | Train Accuracy: 0.8911428571428571 || Validation loss: 0.34577857454617816 | Validation Accuracy: 0.8664761904761905\n",
      "Epoch: 3\n"
     ]
    },
    {
     "data": {
      "application/vnd.jupyter.widget-view+json": {
       "model_id": "8f30f79dd45e4cbbbbbd75582a9ce034",
       "version_major": 2,
       "version_minor": 0
      },
      "text/plain": [
       "  0%|          | 0/137 [00:00<?, ?it/s]"
      ]
     },
     "metadata": {},
     "output_type": "display_data"
    },
    {
     "name": "stdout",
     "output_type": "stream",
     "text": [
      "Train loss: 0.22453387136006878 | Train Accuracy: 0.9228857142857143 || Validation loss: 0.28967641648792086 | Validation Accuracy: 0.8855238095238095\n",
      "Epoch: 4\n"
     ]
    },
    {
     "data": {
      "application/vnd.jupyter.widget-view+json": {
       "model_id": "745a906c13dc48bebcf9d26b55df6db1",
       "version_major": 2,
       "version_minor": 0
      },
      "text/plain": [
       "  0%|          | 0/137 [00:00<?, ?it/s]"
      ]
     },
     "metadata": {},
     "output_type": "display_data"
    },
    {
     "name": "stdout",
     "output_type": "stream",
     "text": [
      "Train loss: 0.17184672325196929 | Train Accuracy: 0.9452285714285714 || Validation loss: 0.2730555413734345 | Validation Accuracy: 0.894095238095238\n",
      "Epoch: 5\n"
     ]
    },
    {
     "data": {
      "application/vnd.jupyter.widget-view+json": {
       "model_id": "a01d6843bffb4feca24e4466feef1a2f",
       "version_major": 2,
       "version_minor": 0
      },
      "text/plain": [
       "  0%|          | 0/137 [00:00<?, ?it/s]"
      ]
     },
     "metadata": {},
     "output_type": "display_data"
    },
    {
     "name": "stdout",
     "output_type": "stream",
     "text": [
      "Train loss: 0.13425603682977438 | Train Accuracy: 0.9598285714285715 || Validation loss: 0.2674512437411717 | Validation Accuracy: 0.8986666666666666\n"
     ]
    }
   ],
   "source": [
    "sentiment_classifier_lstm = SequentialModel(vocab_size,\n",
    "                                  embedding_dim, \n",
    "                                  hidden_size, \n",
    "                                  num_layers, \n",
    "                                  output_size, \n",
    "                                  padding_idx, \n",
    "                                  drop_rate=drop_rate, \n",
    "                                  bidirectional=False, \n",
    "                                  mode=\"LSTM\")\n",
    "criterion = nn.BCELoss()\n",
    "optimizer = torch.optim.Adam(sentiment_classifier_lstm.parameters(), lr=learning_rate, weight_decay=regularization)\n",
    "\n",
    "history = fit(sentiment_classifier_lstm, criterion, optimizer, epochs, (train_dataloader, valid_dataloader))"
   ]
  },
  {
   "cell_type": "code",
   "execution_count": 249,
   "id": "af0d1176-7099-48d7-bc7a-89bd7fc18f6f",
   "metadata": {},
   "outputs": [
    {
     "data": {
      "image/png": "[encoded data removed]",
      "text/plain": [
       "<Figure size 432x288 with 1 Axes>"
      ]
     },
     "metadata": {
      "needs_background": "light"
     },
     "output_type": "display_data"
    },
    {
     "data": {
      "image/png": "[encoded data removed]",
      "text/plain": [
       "<Figure size 432x288 with 1 Axes>"
      ]
     },
     "metadata": {
      "needs_background": "light"
     },
     "output_type": "display_data"
    },
    {
     "data": {
      "image/png": "[encoded data removed]",
      "text/plain": [
       "<Figure size 432x288 with 2 Axes>"
      ]
     },
     "metadata": {
      "needs_background": "light"
     },
     "output_type": "display_data"
    },
    {
     "data": {
      "image/png": "[encoded data removed]",
      "text/plain": [
       "<Figure size 432x288 with 2 Axes>"
      ]
     },
     "metadata": {
      "needs_background": "light"
     },
     "output_type": "display_data"
    },
    {
     "name": "stdout",
     "output_type": "stream",
     "text": [
      "LSTM model achived a AUC score of 0.8996 and 0.9598 on the validation and test data and a accuracy of 0.8973 and 0.9598 on the validation and test data.\n"
     ]
    }
   ],
   "source": [
    "plot_train_hist(history, epochs)\n",
    "\n",
    "y_pred = predict(sentiment_classifier_lstm, X_valid)\n",
    "lstm_valid_auc = auc(sentiment_classifier_lstm, y_valid, y_pred)\n",
    "lstm_valid_acc = accuracy(sentiment_classifier_lstm, criterion, valid_dataloader, y_valid, y_pred, dset=\"Validation\")\n",
    "\n",
    "y_pred = predict(sentiment_classifier_lstm, X_test)\n",
    "lstm_test_auc = auc(sentiment_classifier_lstm, y_test, y_pred)\n",
    "lstm_test_acc = accuracy(sentiment_classifier_lstm, criterion, test_dataloader, y_test, y_pred, dset=\"Test\")\n",
    "\n",
    "print(f\"LSTM model achived a AUC score of {lstm_valid_auc:.4f} and {lstm_test_auc:.4f} on the validation and test data and a accuracy of {lstm_valid_acc:.4f} and {lstm_test_acc:.4f} on the validation and test data.\")"
   ]
  },
  {
   "cell_type": "markdown",
   "id": "03d08e88-c1b7-4b74-b79b-9f24e6e9e38c",
   "metadata": {},
   "source": [
    "### GRU Model:"
   ]
  },
  {
   "cell_type": "code",
   "execution_count": 250,
   "id": "c6077ede-b726-4362-a80d-5b1a94a27b01",
   "metadata": {},
   "outputs": [
    {
     "name": "stdout",
     "output_type": "stream",
     "text": [
      "Epoch: 1\n"
     ]
    },
    {
     "data": {
      "application/vnd.jupyter.widget-view+json": {
       "model_id": "b2e007db51524d9d93dd21c41e00b1d3",
       "version_major": 2,
       "version_minor": 0
      },
      "text/plain": [
       "  0%|          | 0/137 [00:00<?, ?it/s]"
      ]
     },
     "metadata": {},
     "output_type": "display_data"
    },
    {
     "name": "stdout",
     "output_type": "stream",
     "text": [
      "Train loss: 0.5232031412803344 | Train Accuracy: 0.813 || Validation loss: 0.5310693525132679 | Validation Accuracy: 0.799047619047619\n",
      "Epoch: 2\n"
     ]
    },
    {
     "data": {
      "application/vnd.jupyter.widget-view+json": {
       "model_id": "57c9b3119ffc41529d5fa54beddd3f28",
       "version_major": 2,
       "version_minor": 0
      },
      "text/plain": [
       "  0%|          | 0/137 [00:00<?, ?it/s]"
      ]
     },
     "metadata": {},
     "output_type": "display_data"
    },
    {
     "name": "stdout",
     "output_type": "stream",
     "text": [
      "Train loss: 0.3054061465672333 | Train Accuracy: 0.8866285714285714 || Validation loss: 0.33863633161499385 | Validation Accuracy: 0.8601904761904762\n",
      "Epoch: 3\n"
     ]
    },
    {
     "data": {
      "application/vnd.jupyter.widget-view+json": {
       "model_id": "765ea0bf747643d3984d9d9b026e2a15",
       "version_major": 2,
       "version_minor": 0
      },
      "text/plain": [
       "  0%|          | 0/137 [00:00<?, ?it/s]"
      ]
     },
     "metadata": {},
     "output_type": "display_data"
    },
    {
     "name": "stdout",
     "output_type": "stream",
     "text": [
      "Train loss: 0.22187123213806292 | Train Accuracy: 0.9213142857142858 || Validation loss: 0.2862868961833772 | Validation Accuracy: 0.8845714285714286\n",
      "Epoch: 4\n"
     ]
    },
    {
     "data": {
      "application/vnd.jupyter.widget-view+json": {
       "model_id": "59fc067812294a75995b99313d445a1a",
       "version_major": 2,
       "version_minor": 0
      },
      "text/plain": [
       "  0%|          | 0/137 [00:00<?, ?it/s]"
      ]
     },
     "metadata": {},
     "output_type": "display_data"
    },
    {
     "name": "stdout",
     "output_type": "stream",
     "text": [
      "Train loss: 0.1719268517446344 | Train Accuracy: 0.9433714285714285 || Validation loss: 0.27194248068900334 | Validation Accuracy: 0.8889523809523809\n",
      "Epoch: 5\n"
     ]
    },
    {
     "data": {
      "application/vnd.jupyter.widget-view+json": {
       "model_id": "ccb57a99b9a04562bff8aaddc5e04b77",
       "version_major": 2,
       "version_minor": 0
      },
      "text/plain": [
       "  0%|          | 0/137 [00:00<?, ?it/s]"
      ]
     },
     "metadata": {},
     "output_type": "display_data"
    },
    {
     "name": "stdout",
     "output_type": "stream",
     "text": [
      "Train loss: 0.13410147535104822 | Train Accuracy: 0.9586571428571429 || Validation loss: 0.26585470352854046 | Validation Accuracy: 0.8975238095238095\n"
     ]
    }
   ],
   "source": [
    "sentiment_classifier_gru = SequentialModel(vocab_size,\n",
    "                                  embedding_dim, \n",
    "                                  hidden_size, \n",
    "                                  num_layers, \n",
    "                                  output_size, \n",
    "                                  padding_idx, \n",
    "                                  drop_rate=drop_rate, \n",
    "                                  bidirectional=False, \n",
    "                                  mode=\"GRU\")\n",
    "criterion = nn.BCELoss()\n",
    "optimizer = torch.optim.Adam(sentiment_classifier_gru.parameters(), lr=learning_rate, weight_decay=regularization)\n",
    "\n",
    "history = fit(sentiment_classifier_gru, criterion, optimizer, epochs, (train_dataloader, valid_dataloader))"
   ]
  },
  {
   "cell_type": "code",
   "execution_count": 256,
   "id": "67a0b4e6-5c0c-4fab-9bbf-e7869a6b2671",
   "metadata": {},
   "outputs": [
    {
     "data": {
      "image/png": "[encoded data removed]",
      "text/plain": [
       "<Figure size 432x288 with 1 Axes>"
      ]
     },
     "metadata": {
      "needs_background": "light"
     },
     "output_type": "display_data"
    },
    {
     "data": {
      "image/png": "[encoded data removed]",
      "text/plain": [
       "<Figure size 432x288 with 1 Axes>"
      ]
     },
     "metadata": {
      "needs_background": "light"
     },
     "output_type": "display_data"
    },
    {
     "data": {
      "image/png": "[encoded data removed]",
      "text/plain": [
       "<Figure size 432x288 with 2 Axes>"
      ]
     },
     "metadata": {
      "needs_background": "light"
     },
     "output_type": "display_data"
    },
    {
     "data": {
      "image/png": "[encoded data removed]",
      "text/plain": [
       "<Figure size 432x288 with 2 Axes>"
      ]
     },
     "metadata": {
      "needs_background": "light"
     },
     "output_type": "display_data"
    },
    {
     "name": "stdout",
     "output_type": "stream",
     "text": [
      "GRU model achived a AUC score of 0.8970 and 0.9591 on the validation and test data and a accuracy of 0.8964 and 0.9591 on the validation and test data.\n"
     ]
    }
   ],
   "source": [
    "plot_train_hist(history, epochs)\n",
    "\n",
    "y_pred = predict(sentiment_classifier_gru, X_valid)\n",
    "gru_valid_auc = auc(sentiment_classifier_gru, y_valid, y_pred)\n",
    "gru_valid_acc = accuracy(sentiment_classifier_gru, criterion, valid_dataloader, y_valid, y_pred, dset=\"Validation\")\n",
    "\n",
    "y_pred = predict(sentiment_classifier_gru, X_test)\n",
    "gru_test_auc = auc(sentiment_classifier_gru, y_test, y_pred)\n",
    "gru_test_acc = accuracy(sentiment_classifier_gru, criterion, test_dataloader, y_test, y_pred, dset=\"Test\")\n",
    "\n",
    "print(f\"GRU model achived a AUC score of {gru_valid_auc:.4f} and {gru_test_auc:.4f} on the validation and test data and a accuracy of {gru_valid_acc:.4f} and {gru_test_acc:.4f} on the validation and test data.\")"
   ]
  },
  {
   "cell_type": "markdown",
   "id": "1e634c9e-e9d4-4764-808a-a6309ff00e1d",
   "metadata": {},
   "source": [
    "### Model Differences:\n",
    "The three models performed very similary on both the validation and testing data. This lack of oberved differences could a product of this dataset not being very complext and thus the added components in LSTM and GRU are not nessesary for achiving good accuracy and generalizability. \n",
    "\n",
    "LSTM and GRU attempt to manage the vanishing gradient problem of RNN's by adding a memory gate that decide on which information can be forgotten meaning that only important information is maintained and amplified. Since the perfomance of these optimizations is similar to the basic RNN model makes me think that we are not running into a valishing gradient problem with this dataset."
   ]
  },
  {
   "cell_type": "markdown",
   "id": "0efc4cc8-fae1-48e5-bb31-1fe98b3aef5b",
   "metadata": {},
   "source": [
    "### Other Approach:\n",
    "You can use a traditional feed-forward network to solve the problem of IMBD sentiment analysis. Still, it's unlikely to perform as well as it won't have a spacial syntax that gives language contextual meaning."
   ]
  },
  {
   "cell_type": "markdown",
   "id": "ddcea207-f554-4d48-8e2c-fee00253f770",
   "metadata": {},
   "source": [
    "## Task 2"
   ]
  },
  {
   "cell_type": "code",
   "execution_count": 257,
   "id": "34f0b14b-e396-490c-a4fc-0d375ba03751",
   "metadata": {
    "scrolled": true,
    "tags": []
   },
   "outputs": [
    {
     "data": {
      "text/plain": [
       "CLIP(\n",
       "  (visual): VisionTransformer(\n",
       "    (conv1): Conv2d(3, 768, kernel_size=(32, 32), stride=(32, 32), bias=False)\n",
       "    (ln_pre): LayerNorm((768,), eps=1e-05, elementwise_affine=True)\n",
       "    (transformer): Transformer(\n",
       "      (resblocks): Sequential(\n",
       "        (0): ResidualAttentionBlock(\n",
       "          (attn): MultiheadAttention(\n",
       "            (out_proj): NonDynamicallyQuantizableLinear(in_features=768, out_features=768, bias=True)\n",
       "          )\n",
       "          (ln_1): LayerNorm((768,), eps=1e-05, elementwise_affine=True)\n",
       "          (mlp): Sequential(\n",
       "            (c_fc): Linear(in_features=768, out_features=3072, bias=True)\n",
       "            (gelu): QuickGELU()\n",
       "            (c_proj): Linear(in_features=3072, out_features=768, bias=True)\n",
       "          )\n",
       "          (ln_2): LayerNorm((768,), eps=1e-05, elementwise_affine=True)\n",
       "        )\n",
       "        (1): ResidualAttentionBlock(\n",
       "          (attn): MultiheadAttention(\n",
       "            (out_proj): NonDynamicallyQuantizableLinear(in_features=768, out_features=768, bias=True)\n",
       "          )\n",
       "          (ln_1): LayerNorm((768,), eps=1e-05, elementwise_affine=True)\n",
       "          (mlp): Sequential(\n",
       "            (c_fc): Linear(in_features=768, out_features=3072, bias=True)\n",
       "            (gelu): QuickGELU()\n",
       "            (c_proj): Linear(in_features=3072, out_features=768, bias=True)\n",
       "          )\n",
       "          (ln_2): LayerNorm((768,), eps=1e-05, elementwise_affine=True)\n",
       "        )\n",
       "        (2): ResidualAttentionBlock(\n",
       "          (attn): MultiheadAttention(\n",
       "            (out_proj): NonDynamicallyQuantizableLinear(in_features=768, out_features=768, bias=True)\n",
       "          )\n",
       "          (ln_1): LayerNorm((768,), eps=1e-05, elementwise_affine=True)\n",
       "          (mlp): Sequential(\n",
       "            (c_fc): Linear(in_features=768, out_features=3072, bias=True)\n",
       "            (gelu): QuickGELU()\n",
       "            (c_proj): Linear(in_features=3072, out_features=768, bias=True)\n",
       "          )\n",
       "          (ln_2): LayerNorm((768,), eps=1e-05, elementwise_affine=True)\n",
       "        )\n",
       "        (3): ResidualAttentionBlock(\n",
       "          (attn): MultiheadAttention(\n",
       "            (out_proj): NonDynamicallyQuantizableLinear(in_features=768, out_features=768, bias=True)\n",
       "          )\n",
       "          (ln_1): LayerNorm((768,), eps=1e-05, elementwise_affine=True)\n",
       "          (mlp): Sequential(\n",
       "            (c_fc): Linear(in_features=768, out_features=3072, bias=True)\n",
       "            (gelu): QuickGELU()\n",
       "            (c_proj): Linear(in_features=3072, out_features=768, bias=True)\n",
       "          )\n",
       "          (ln_2): LayerNorm((768,), eps=1e-05, elementwise_affine=True)\n",
       "        )\n",
       "        (4): ResidualAttentionBlock(\n",
       "          (attn): MultiheadAttention(\n",
       "            (out_proj): NonDynamicallyQuantizableLinear(in_features=768, out_features=768, bias=True)\n",
       "          )\n",
       "          (ln_1): LayerNorm((768,), eps=1e-05, elementwise_affine=True)\n",
       "          (mlp): Sequential(\n",
       "            (c_fc): Linear(in_features=768, out_features=3072, bias=True)\n",
       "            (gelu): QuickGELU()\n",
       "            (c_proj): Linear(in_features=3072, out_features=768, bias=True)\n",
       "          )\n",
       "          (ln_2): LayerNorm((768,), eps=1e-05, elementwise_affine=True)\n",
       "        )\n",
       "        (5): ResidualAttentionBlock(\n",
       "          (attn): MultiheadAttention(\n",
       "            (out_proj): NonDynamicallyQuantizableLinear(in_features=768, out_features=768, bias=True)\n",
       "          )\n",
       "          (ln_1): LayerNorm((768,), eps=1e-05, elementwise_affine=True)\n",
       "          (mlp): Sequential(\n",
       "            (c_fc): Linear(in_features=768, out_features=3072, bias=True)\n",
       "            (gelu): QuickGELU()\n",
       "            (c_proj): Linear(in_features=3072, out_features=768, bias=True)\n",
       "          )\n",
       "          (ln_2): LayerNorm((768,), eps=1e-05, elementwise_affine=True)\n",
       "        )\n",
       "        (6): ResidualAttentionBlock(\n",
       "          (attn): MultiheadAttention(\n",
       "            (out_proj): NonDynamicallyQuantizableLinear(in_features=768, out_features=768, bias=True)\n",
       "          )\n",
       "          (ln_1): LayerNorm((768,), eps=1e-05, elementwise_affine=True)\n",
       "          (mlp): Sequential(\n",
       "            (c_fc): Linear(in_features=768, out_features=3072, bias=True)\n",
       "            (gelu): QuickGELU()\n",
       "            (c_proj): Linear(in_features=3072, out_features=768, bias=True)\n",
       "          )\n",
       "          (ln_2): LayerNorm((768,), eps=1e-05, elementwise_affine=True)\n",
       "        )\n",
       "        (7): ResidualAttentionBlock(\n",
       "          (attn): MultiheadAttention(\n",
       "            (out_proj): NonDynamicallyQuantizableLinear(in_features=768, out_features=768, bias=True)\n",
       "          )\n",
       "          (ln_1): LayerNorm((768,), eps=1e-05, elementwise_affine=True)\n",
       "          (mlp): Sequential(\n",
       "            (c_fc): Linear(in_features=768, out_features=3072, bias=True)\n",
       "            (gelu): QuickGELU()\n",
       "            (c_proj): Linear(in_features=3072, out_features=768, bias=True)\n",
       "          )\n",
       "          (ln_2): LayerNorm((768,), eps=1e-05, elementwise_affine=True)\n",
       "        )\n",
       "        (8): ResidualAttentionBlock(\n",
       "          (attn): MultiheadAttention(\n",
       "            (out_proj): NonDynamicallyQuantizableLinear(in_features=768, out_features=768, bias=True)\n",
       "          )\n",
       "          (ln_1): LayerNorm((768,), eps=1e-05, elementwise_affine=True)\n",
       "          (mlp): Sequential(\n",
       "            (c_fc): Linear(in_features=768, out_features=3072, bias=True)\n",
       "            (gelu): QuickGELU()\n",
       "            (c_proj): Linear(in_features=3072, out_features=768, bias=True)\n",
       "          )\n",
       "          (ln_2): LayerNorm((768,), eps=1e-05, elementwise_affine=True)\n",
       "        )\n",
       "        (9): ResidualAttentionBlock(\n",
       "          (attn): MultiheadAttention(\n",
       "            (out_proj): NonDynamicallyQuantizableLinear(in_features=768, out_features=768, bias=True)\n",
       "          )\n",
       "          (ln_1): LayerNorm((768,), eps=1e-05, elementwise_affine=True)\n",
       "          (mlp): Sequential(\n",
       "            (c_fc): Linear(in_features=768, out_features=3072, bias=True)\n",
       "            (gelu): QuickGELU()\n",
       "            (c_proj): Linear(in_features=3072, out_features=768, bias=True)\n",
       "          )\n",
       "          (ln_2): LayerNorm((768,), eps=1e-05, elementwise_affine=True)\n",
       "        )\n",
       "        (10): ResidualAttentionBlock(\n",
       "          (attn): MultiheadAttention(\n",
       "            (out_proj): NonDynamicallyQuantizableLinear(in_features=768, out_features=768, bias=True)\n",
       "          )\n",
       "          (ln_1): LayerNorm((768,), eps=1e-05, elementwise_affine=True)\n",
       "          (mlp): Sequential(\n",
       "            (c_fc): Linear(in_features=768, out_features=3072, bias=True)\n",
       "            (gelu): QuickGELU()\n",
       "            (c_proj): Linear(in_features=3072, out_features=768, bias=True)\n",
       "          )\n",
       "          (ln_2): LayerNorm((768,), eps=1e-05, elementwise_affine=True)\n",
       "        )\n",
       "        (11): ResidualAttentionBlock(\n",
       "          (attn): MultiheadAttention(\n",
       "            (out_proj): NonDynamicallyQuantizableLinear(in_features=768, out_features=768, bias=True)\n",
       "          )\n",
       "          (ln_1): LayerNorm((768,), eps=1e-05, elementwise_affine=True)\n",
       "          (mlp): Sequential(\n",
       "            (c_fc): Linear(in_features=768, out_features=3072, bias=True)\n",
       "            (gelu): QuickGELU()\n",
       "            (c_proj): Linear(in_features=3072, out_features=768, bias=True)\n",
       "          )\n",
       "          (ln_2): LayerNorm((768,), eps=1e-05, elementwise_affine=True)\n",
       "        )\n",
       "      )\n",
       "    )\n",
       "    (ln_post): LayerNorm((768,), eps=1e-05, elementwise_affine=True)\n",
       "  )\n",
       "  (transformer): Transformer(\n",
       "    (resblocks): Sequential(\n",
       "      (0): ResidualAttentionBlock(\n",
       "        (attn): MultiheadAttention(\n",
       "          (out_proj): NonDynamicallyQuantizableLinear(in_features=512, out_features=512, bias=True)\n",
       "        )\n",
       "        (ln_1): LayerNorm((512,), eps=1e-05, elementwise_affine=True)\n",
       "        (mlp): Sequential(\n",
       "          (c_fc): Linear(in_features=512, out_features=2048, bias=True)\n",
       "          (gelu): QuickGELU()\n",
       "          (c_proj): Linear(in_features=2048, out_features=512, bias=True)\n",
       "        )\n",
       "        (ln_2): LayerNorm((512,), eps=1e-05, elementwise_affine=True)\n",
       "      )\n",
       "      (1): ResidualAttentionBlock(\n",
       "        (attn): MultiheadAttention(\n",
       "          (out_proj): NonDynamicallyQuantizableLinear(in_features=512, out_features=512, bias=True)\n",
       "        )\n",
       "        (ln_1): LayerNorm((512,), eps=1e-05, elementwise_affine=True)\n",
       "        (mlp): Sequential(\n",
       "          (c_fc): Linear(in_features=512, out_features=2048, bias=True)\n",
       "          (gelu): QuickGELU()\n",
       "          (c_proj): Linear(in_features=2048, out_features=512, bias=True)\n",
       "        )\n",
       "        (ln_2): LayerNorm((512,), eps=1e-05, elementwise_affine=True)\n",
       "      )\n",
       "      (2): ResidualAttentionBlock(\n",
       "        (attn): MultiheadAttention(\n",
       "          (out_proj): NonDynamicallyQuantizableLinear(in_features=512, out_features=512, bias=True)\n",
       "        )\n",
       "        (ln_1): LayerNorm((512,), eps=1e-05, elementwise_affine=True)\n",
       "        (mlp): Sequential(\n",
       "          (c_fc): Linear(in_features=512, out_features=2048, bias=True)\n",
       "          (gelu): QuickGELU()\n",
       "          (c_proj): Linear(in_features=2048, out_features=512, bias=True)\n",
       "        )\n",
       "        (ln_2): LayerNorm((512,), eps=1e-05, elementwise_affine=True)\n",
       "      )\n",
       "      (3): ResidualAttentionBlock(\n",
       "        (attn): MultiheadAttention(\n",
       "          (out_proj): NonDynamicallyQuantizableLinear(in_features=512, out_features=512, bias=True)\n",
       "        )\n",
       "        (ln_1): LayerNorm((512,), eps=1e-05, elementwise_affine=True)\n",
       "        (mlp): Sequential(\n",
       "          (c_fc): Linear(in_features=512, out_features=2048, bias=True)\n",
       "          (gelu): QuickGELU()\n",
       "          (c_proj): Linear(in_features=2048, out_features=512, bias=True)\n",
       "        )\n",
       "        (ln_2): LayerNorm((512,), eps=1e-05, elementwise_affine=True)\n",
       "      )\n",
       "      (4): ResidualAttentionBlock(\n",
       "        (attn): MultiheadAttention(\n",
       "          (out_proj): NonDynamicallyQuantizableLinear(in_features=512, out_features=512, bias=True)\n",
       "        )\n",
       "        (ln_1): LayerNorm((512,), eps=1e-05, elementwise_affine=True)\n",
       "        (mlp): Sequential(\n",
       "          (c_fc): Linear(in_features=512, out_features=2048, bias=True)\n",
       "          (gelu): QuickGELU()\n",
       "          (c_proj): Linear(in_features=2048, out_features=512, bias=True)\n",
       "        )\n",
       "        (ln_2): LayerNorm((512,), eps=1e-05, elementwise_affine=True)\n",
       "      )\n",
       "      (5): ResidualAttentionBlock(\n",
       "        (attn): MultiheadAttention(\n",
       "          (out_proj): NonDynamicallyQuantizableLinear(in_features=512, out_features=512, bias=True)\n",
       "        )\n",
       "        (ln_1): LayerNorm((512,), eps=1e-05, elementwise_affine=True)\n",
       "        (mlp): Sequential(\n",
       "          (c_fc): Linear(in_features=512, out_features=2048, bias=True)\n",
       "          (gelu): QuickGELU()\n",
       "          (c_proj): Linear(in_features=2048, out_features=512, bias=True)\n",
       "        )\n",
       "        (ln_2): LayerNorm((512,), eps=1e-05, elementwise_affine=True)\n",
       "      )\n",
       "      (6): ResidualAttentionBlock(\n",
       "        (attn): MultiheadAttention(\n",
       "          (out_proj): NonDynamicallyQuantizableLinear(in_features=512, out_features=512, bias=True)\n",
       "        )\n",
       "        (ln_1): LayerNorm((512,), eps=1e-05, elementwise_affine=True)\n",
       "        (mlp): Sequential(\n",
       "          (c_fc): Linear(in_features=512, out_features=2048, bias=True)\n",
       "          (gelu): QuickGELU()\n",
       "          (c_proj): Linear(in_features=2048, out_features=512, bias=True)\n",
       "        )\n",
       "        (ln_2): LayerNorm((512,), eps=1e-05, elementwise_affine=True)\n",
       "      )\n",
       "      (7): ResidualAttentionBlock(\n",
       "        (attn): MultiheadAttention(\n",
       "          (out_proj): NonDynamicallyQuantizableLinear(in_features=512, out_features=512, bias=True)\n",
       "        )\n",
       "        (ln_1): LayerNorm((512,), eps=1e-05, elementwise_affine=True)\n",
       "        (mlp): Sequential(\n",
       "          (c_fc): Linear(in_features=512, out_features=2048, bias=True)\n",
       "          (gelu): QuickGELU()\n",
       "          (c_proj): Linear(in_features=2048, out_features=512, bias=True)\n",
       "        )\n",
       "        (ln_2): LayerNorm((512,), eps=1e-05, elementwise_affine=True)\n",
       "      )\n",
       "      (8): ResidualAttentionBlock(\n",
       "        (attn): MultiheadAttention(\n",
       "          (out_proj): NonDynamicallyQuantizableLinear(in_features=512, out_features=512, bias=True)\n",
       "        )\n",
       "        (ln_1): LayerNorm((512,), eps=1e-05, elementwise_affine=True)\n",
       "        (mlp): Sequential(\n",
       "          (c_fc): Linear(in_features=512, out_features=2048, bias=True)\n",
       "          (gelu): QuickGELU()\n",
       "          (c_proj): Linear(in_features=2048, out_features=512, bias=True)\n",
       "        )\n",
       "        (ln_2): LayerNorm((512,), eps=1e-05, elementwise_affine=True)\n",
       "      )\n",
       "      (9): ResidualAttentionBlock(\n",
       "        (attn): MultiheadAttention(\n",
       "          (out_proj): NonDynamicallyQuantizableLinear(in_features=512, out_features=512, bias=True)\n",
       "        )\n",
       "        (ln_1): LayerNorm((512,), eps=1e-05, elementwise_affine=True)\n",
       "        (mlp): Sequential(\n",
       "          (c_fc): Linear(in_features=512, out_features=2048, bias=True)\n",
       "          (gelu): QuickGELU()\n",
       "          (c_proj): Linear(in_features=2048, out_features=512, bias=True)\n",
       "        )\n",
       "        (ln_2): LayerNorm((512,), eps=1e-05, elementwise_affine=True)\n",
       "      )\n",
       "      (10): ResidualAttentionBlock(\n",
       "        (attn): MultiheadAttention(\n",
       "          (out_proj): NonDynamicallyQuantizableLinear(in_features=512, out_features=512, bias=True)\n",
       "        )\n",
       "        (ln_1): LayerNorm((512,), eps=1e-05, elementwise_affine=True)\n",
       "        (mlp): Sequential(\n",
       "          (c_fc): Linear(in_features=512, out_features=2048, bias=True)\n",
       "          (gelu): QuickGELU()\n",
       "          (c_proj): Linear(in_features=2048, out_features=512, bias=True)\n",
       "        )\n",
       "        (ln_2): LayerNorm((512,), eps=1e-05, elementwise_affine=True)\n",
       "      )\n",
       "      (11): ResidualAttentionBlock(\n",
       "        (attn): MultiheadAttention(\n",
       "          (out_proj): NonDynamicallyQuantizableLinear(in_features=512, out_features=512, bias=True)\n",
       "        )\n",
       "        (ln_1): LayerNorm((512,), eps=1e-05, elementwise_affine=True)\n",
       "        (mlp): Sequential(\n",
       "          (c_fc): Linear(in_features=512, out_features=2048, bias=True)\n",
       "          (gelu): QuickGELU()\n",
       "          (c_proj): Linear(in_features=2048, out_features=512, bias=True)\n",
       "        )\n",
       "        (ln_2): LayerNorm((512,), eps=1e-05, elementwise_affine=True)\n",
       "      )\n",
       "    )\n",
       "  )\n",
       "  (token_embedding): Embedding(49408, 512)\n",
       "  (ln_final): LayerNorm((512,), eps=1e-05, elementwise_affine=True)\n",
       ")"
      ]
     },
     "execution_count": 257,
     "metadata": {},
     "output_type": "execute_result"
    }
   ],
   "source": [
    "model, _ = clip.load(\"ViT-B/32\")\n",
    "model.eval()"
   ]
  },
  {
   "cell_type": "code",
   "execution_count": 258,
   "id": "b8943264-5662-4903-9020-3a68b93ce4dc",
   "metadata": {},
   "outputs": [],
   "source": [
    "def compare_words(model, word1, word2):\n",
    "    model.eval()\n",
    "    \n",
    "    word1_token = clip.tokenize(word1)\n",
    "    word2_token = clip.tokenize(word2)\n",
    "    \n",
    "    with torch.no_grad():\n",
    "        word1_features = model.encode_text(word1_token).float()\n",
    "        word2_features = model.encode_text(word2_token).float()\n",
    "        \n",
    "    cs = float(cosine_similarity(word1_features, word2_features)[0][0])\n",
    "    ds = float(dissimilarity(word1_features, word2_features))\n",
    "    return (cs, ds)\n",
    "    \n",
    "def cosine_similarity(encoding1, encoding2):\n",
    "    return encoding1 @ encoding2.T / (torch.norm(encoding1, p=2) * torch.norm(encoding2, p=2))\n",
    "\n",
    "def dissimilarity(encoding1, encoding2):\n",
    "    return torch.norm(encoding1-encoding2, p=2)"
   ]
  },
  {
   "cell_type": "code",
   "execution_count": 259,
   "id": "57a7842c-2c8e-4d93-b739-d11c1bb2515d",
   "metadata": {},
   "outputs": [
    {
     "name": "stdin",
     "output_type": "stream",
     "text": [
      "First word:  apple\n",
      "Second word:  fruit\n"
     ]
    },
    {
     "name": "stdout",
     "output_type": "stream",
     "text": [
      "Words 'apple' and 'fruit' have a costine similairty of 0.8353 and a dissimilarity of 5.8893\n"
     ]
    }
   ],
   "source": [
    "word1 = input(\"First word: \")\n",
    "word2 = input(\"Second word: \")\n",
    "cos_sim, dis_sim = compare_words(model, word1, word2)\n",
    "print(f\"Words '{word1}' and '{word2}' have a costine similairty of {cos_sim:.4f} and a dissimilarity of {dis_sim:.4f}\")"
   ]
  },
  {
   "cell_type": "markdown",
   "id": "e510485f-2edf-4f92-8473-6d3005904d59",
   "metadata": {},
   "source": [
    "For my dissimilarity I used difference of squares using the l2 norm. First I subtract one encoded word vector from the other and then take the Euclidean distance of that difference vector. This tells us how far the two word vectors are, so the larger the result the more dissimiler the two words are."
   ]
  }
 ],
 "metadata": {
  "kernelspec": {
   "display_name": "Python (csci6962)",
   "language": "python",
   "name": "csci6962"
  },
  "language_info": {
   "codemirror_mode": {
    "name": "ipython",
    "version": 3
   },
   "file_extension": ".py",
   "mimetype": "text/x-python",
   "name": "python",
   "nbconvert_exporter": "python",
   "pygments_lexer": "ipython3",
   "version": "3.8.8"
  }
 },
 "nbformat": 4,
 "nbformat_minor": 5
}
